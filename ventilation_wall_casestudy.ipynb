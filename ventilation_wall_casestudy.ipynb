{
 "cells": [
  {
   "cell_type": "code",
   "execution_count": 1,
   "metadata": {},
   "outputs": [],
   "source": [
    "import itertools\n",
    "import numpy as np\n",
    "import pandas as pd\n",
    "from matplotlib import pyplot as plt\n",
    "import ventilation_wall as vw\n",
    "import ventilation_wall_simplified as vws\n",
    "import envelope_performance_factors\n",
    "import global_number"
   ]
  },
  {
   "cell_type": "markdown",
   "metadata": {},
   "source": [
    "# 通気層を有する壁体等の熱的性能のケーススタディ"
   ]
  },
  {
   "cell_type": "markdown",
   "metadata": {},
   "source": [
    "## 検討用パラメータを設定\n",
    "\n",
    "### 分析用パラメータのリストを作成"
   ]
  },
  {
   "cell_type": "code",
   "execution_count": 2,
   "metadata": {},
   "outputs": [
    {
     "data": {
      "text/plain": [
       "array([0.  , 0.05, 0.1 , 0.15, 0.2 , 0.25, 0.3 , 0.35, 0.4 , 0.45, 0.5 ,\n",
       "       0.55, 0.6 , 0.65, 0.7 , 0.75, 0.8 , 0.85, 0.9 , 0.95, 1.  , 1.05,\n",
       "       1.1 , 1.15, 1.2 , 1.25, 1.3 , 1.35, 1.4 , 1.45, 1.5 , 1.55, 1.6 ,\n",
       "       1.65, 1.7 , 1.75, 1.8 , 1.85, 1.9 , 1.95])"
      ]
     },
     "execution_count": 2,
     "metadata": {},
     "output_type": "execute_result"
    }
   ],
   "source": [
    "# 通気層の平均風速, m/s\n",
    "v_a_array = np.arange(0.0, 2.0, 0.05)\n",
    "v_a_array"
   ]
  },
  {
   "cell_type": "code",
   "execution_count": 3,
   "metadata": {},
   "outputs": [
    {
     "data": {
      "text/plain": [
       "array([   0.,  500., 1000.])"
      ]
     },
     "execution_count": 3,
     "metadata": {},
     "output_type": "execute_result"
    }
   ],
   "source": [
    "# 外気側表面に入射する日射量, W/m2\n",
    "j_surf_array = np.array([0.0, 500.0, 1000.0])\n",
    "j_surf_array"
   ]
  },
  {
   "cell_type": "code",
   "execution_count": 4,
   "metadata": {},
   "outputs": [
    {
     "data": {
      "text/plain": [
       "array([0. , 0.5, 1. ])"
      ]
     },
     "execution_count": 4,
     "metadata": {},
     "output_type": "execute_result"
    }
   ],
   "source": [
    "# 外気側表面日射吸収率\n",
    "a_surf_array = np.array([0.0, 0.5, 1.0])\n",
    "a_surf_array"
   ]
  },
  {
   "cell_type": "code",
   "execution_count": 5,
   "metadata": {},
   "outputs": [
    {
     "data": {
      "text/plain": [
       "array([  0.25,   2.25,   4.25,   6.25,   8.25,  10.25,  12.25,  14.25,\n",
       "        16.25,  18.25,  20.25,  22.25,  24.25,  26.25,  28.25,  30.25,\n",
       "        32.25,  34.25,  36.25,  38.25,  40.25,  42.25,  44.25,  46.25,\n",
       "        48.25,  50.25,  52.25,  54.25,  56.25,  58.25,  60.25,  62.25,\n",
       "        64.25,  66.25,  68.25,  70.25,  72.25,  74.25,  76.25,  78.25,\n",
       "        80.25,  82.25,  84.25,  86.25,  88.25,  90.25,  92.25,  94.25,\n",
       "        96.25,  98.25, 100.25])"
      ]
     },
     "execution_count": 5,
     "metadata": {},
     "output_type": "execute_result"
    }
   ],
   "source": [
    "# 外気側部材の熱コンダクタンス,W/(m2・K)\n",
    "C_1_array = np.arange(0.25, 101.0, 2.0)\n",
    "C_1_array"
   ]
  },
  {
   "cell_type": "code",
   "execution_count": 6,
   "metadata": {},
   "outputs": [
    {
     "data": {
      "text/plain": [
       "array([0.05, 0.1 , 0.15, 0.2 , 0.25, 0.3 , 0.35, 0.4 , 0.45, 0.5 , 0.55,\n",
       "       0.6 , 0.65, 0.7 , 0.75, 0.8 , 0.85, 0.9 , 0.95, 1.  ])"
      ]
     },
     "execution_count": 6,
     "metadata": {},
     "output_type": "execute_result"
    }
   ],
   "source": [
    "# 通気層に面する面2の放射率\n",
    "#emissivity_2_array = np.array([0.1, 0.5, 0.9])\n",
    "emissivity_2_array = np.arange(0.05, 1.05, 0.05)\n",
    "emissivity_2_array"
   ]
  },
  {
   "cell_type": "markdown",
   "metadata": {},
   "source": [
    "## 分析用の関数を定義\n",
    "### パラメータリストを作成する関数"
   ]
  },
  {
   "cell_type": "code",
   "execution_count": 7,
   "metadata": {},
   "outputs": [],
   "source": [
    "def getParameterList(arg_theta_e: float, arg_theta_r: float,\n",
    "                     v_a_array: np.array, j_surf_array: np.array, a_surf_array: np.array,\n",
    "                    C_1_array: np.array, emissivity_2_array: np.array) -> pd.DataFrame:\n",
    "    \n",
    "    # 風速、日射量、日射吸収率の直積を作成し、DataFrameに変換\n",
    "    parameter_list = list(itertools.product(v_a_array, j_surf_array, a_surf_array, C_1_array, emissivity_2_array))\n",
    "    df = pd.DataFrame(parameter_list, columns=['v_a', 'j_surf', 'a_surf', 'C_1', 'emissivity_2'])\n",
    "    \n",
    "    # その他のパラメータの値を設定\n",
    "    df['theta_e'] = arg_theta_e\n",
    "    df['theta_r'] = arg_theta_r\n",
    "    df['C_2'] = 2.55\n",
    "    df['l_h'] = 7.5\n",
    "    df['l_w'] = 5.025\n",
    "    df['l_d'] = 0.175\n",
    "    df['angle'] = 45.0\n",
    "    df['l_s'] = 0.45\n",
    "    df['emissivity_1'] = 0.9\n",
    "\n",
    "    return df\n"
   ]
  },
  {
   "cell_type": "markdown",
   "metadata": {},
   "source": [
    "### 簡易計算法案No.3による計算結果を保有するDataFrameを作成する関数"
   ]
  },
  {
   "cell_type": "code",
   "execution_count": 8,
   "metadata": {},
   "outputs": [],
   "source": [
    "def get_wall_status_data_by_simplified_calculation_no_03(df: pd.DataFrame) -> pd.DataFrame:\n",
    "\n",
    "    # 固定値の設定\n",
    "    h_out = global_number.get_h_out()\n",
    "\n",
    "    # 計算結果格納用配列を用意\n",
    "    u_dash = []\n",
    "    eta_dash = []\n",
    "    q_room_side = []\n",
    "\n",
    "    for row in df.itertuples():\n",
    "        # パラメータを設定\n",
    "        parms = (vw.Parameters(theta_e=row.theta_e, theta_r=row.theta_r, J_surf=row.j_surf, a_surf=row.a_surf,\n",
    "                               C_1=row.C_1, C_2=row.C_2, l_h=row.l_h, l_w=row.l_w, l_d=row.l_d, angle=row.angle,\n",
    "                               v_a=row.v_a, l_s=row.l_s, emissivity_1=row.emissivity_1, emissivity_2=row.emissivity_2\n",
    "                              )\n",
    "                )\n",
    "\n",
    "        # 対流熱伝達率、放射熱伝達率、修正熱貫流率、修正日射熱取得率、室内側表面熱流を計算\n",
    "        h_cv_buf, h_rv_buf, u_dash_buf, eta_dash_buf, q_room_side_buf = vws.get_vent_wall_performance_factor_by_simplified_calculation_no_03(parm=parms, h_out=h_out)\n",
    "\n",
    "        # 配列に格納\n",
    "        u_dash.append(u_dash_buf)\n",
    "        eta_dash.append(eta_dash_buf)\n",
    "        q_room_side.append(q_room_side_buf)\n",
    "\n",
    "    # 計算結果をDataFrameに追加\n",
    "    df['u_dash'] = u_dash\n",
    "    df['eta_dash'] = eta_dash\n",
    "    df['q_room_side'] = q_room_side\n",
    "\n",
    "    return df\n"
   ]
  },
  {
   "cell_type": "markdown",
   "metadata": {},
   "source": [
    "### 散布図を作成する関数（凡例あり）"
   ]
  },
  {
   "cell_type": "code",
   "execution_count": 9,
   "metadata": {},
   "outputs": [],
   "source": [
    "def setPltComparison(df: pd.DataFrame, fig_title:str, x_label:str, y_label:str,\n",
    "                     x_data_name: str, y_data_name: str,\n",
    "                     query_label:str, query_data_name: str, query_data_list: np.array,\n",
    "                     xlim_min:float, xlim_max:float, ylim_min:float, ylim_max:float):\n",
    "    \n",
    "    # グラフを表示する領域（figureオブジェクト）、グラフを描画する領域（Axesオブジェクト）を作成\n",
    "    # グラフサイズを指定する　デフォルト：figsize=(6.4, 4.8)、小サイズ：figsize=(4.0, 3.5)\n",
    "    fig, ax = plt.subplots(figsize=(6.4, 4.8))\n",
    "    \n",
    "    # フォントサイズを設定\n",
    "    plt.rcParams[\"font.size\"] = 14\n",
    "    \n",
    "    # グラフタイトルを設定\n",
    "    fig.suptitle(fig_title)\n",
    "        \n",
    "    # 補助軸の設定\n",
    "    ax.grid(which='major', color='gray', linestyle='-')\n",
    "    ax.grid(which='minor', color='gray', linestyle='-')\n",
    "        \n",
    "    # 軸ラベルの設定\n",
    "    ax.set_xlabel(x_label)\n",
    "    ax.set_ylabel(y_label)\n",
    "    \n",
    "    # プロットの色を設定\n",
    "    colors =['b', 'g', 'r']\n",
    "    \n",
    "    # 散布図の描画設定\n",
    "    for i, data in enumerate(query_data_list):\n",
    "        x = df.query(query_data_name + ' == ' + str(query_data_list[i]))[x_data_name]\n",
    "        y = df.query(query_data_name + ' == ' + str(query_data_list[i]))[y_data_name]\n",
    "        label = query_label + ':' + str(query_data_list[i])\n",
    "        ax.scatter(x, y, color=colors[i], label= label, s=30, marker=\".\")\n",
    "        \n",
    "    # 軸の描画範囲設定\n",
    "    ax.set_xlim(xlim_min, xlim_max)\n",
    "    ax.set_ylim(ylim_min, ylim_max)\n",
    "    \n",
    "    # グラフ描画\n",
    "    plt.legend()\n",
    "    plt.show()\n",
    "    "
   ]
  },
  {
   "cell_type": "markdown",
   "metadata": {},
   "source": [
    "### 散布図を作成する関数（凡例なし）"
   ]
  },
  {
   "cell_type": "code",
   "execution_count": 10,
   "metadata": {},
   "outputs": [],
   "source": [
    "def setPltComparison_NoLegend(df: pd.DataFrame, fig_title:str, x_label:str, y_label:str,\n",
    "                     x_data_name: str, y_data_name: str,\n",
    "                     xlim_min:float, xlim_max:float, ylim_min:float, ylim_max:float):\n",
    "    \n",
    "    # グラフを表示する領域（figureオブジェクト）、グラフを描画する領域（Axesオブジェクト）を作成\n",
    "    # グラフサイズを指定する　デフォルト：figsize=(6.4, 4.8)、小サイズ：figsize=(4.0, 3.5)\n",
    "    fig, ax = plt.subplots(figsize=(3.5, 3.2))\n",
    "    \n",
    "    # フォントサイズを設定\n",
    "    plt.rcParams[\"font.size\"] = 14\n",
    "    \n",
    "    # グラフタイトルを設定\n",
    "    fig.suptitle(fig_title)\n",
    "        \n",
    "    # 補助軸の設定\n",
    "    ax.grid(which='major', color='gray', linestyle='-')\n",
    "    ax.grid(which='minor', color='gray', linestyle='-')\n",
    "        \n",
    "    # 軸ラベルの設定\n",
    "    ax.set_xlabel(x_label)\n",
    "    ax.set_ylabel(y_label)\n",
    "    \n",
    "    # 散布図の描画設定\n",
    "    x = df[x_data_name]\n",
    "    y = df[y_data_name]\n",
    "    ax.scatter(x, y, color='b', s=30, marker=\".\")\n",
    "        \n",
    "    # 軸の描画範囲設定\n",
    "    ax.set_xlim(xlim_min, xlim_max)\n",
    "    ax.set_ylim(ylim_min, ylim_max)\n",
    "    \n",
    "    # グラフ描画\n",
    "    plt.show()\n",
    "    "
   ]
  },
  {
   "cell_type": "markdown",
   "metadata": {},
   "source": [
    "## グラフの描画\n",
    "### 冬期条件のDataFrameを作成"
   ]
  },
  {
   "cell_type": "code",
   "execution_count": 11,
   "metadata": {},
   "outputs": [
    {
     "data": {
      "text/html": [
       "<div>\n",
       "<style scoped>\n",
       "    .dataframe tbody tr th:only-of-type {\n",
       "        vertical-align: middle;\n",
       "    }\n",
       "\n",
       "    .dataframe tbody tr th {\n",
       "        vertical-align: top;\n",
       "    }\n",
       "\n",
       "    .dataframe thead th {\n",
       "        text-align: right;\n",
       "    }\n",
       "</style>\n",
       "<table border=\"1\" class=\"dataframe\">\n",
       "  <thead>\n",
       "    <tr style=\"text-align: right;\">\n",
       "      <th></th>\n",
       "      <th>v_a</th>\n",
       "      <th>j_surf</th>\n",
       "      <th>a_surf</th>\n",
       "      <th>C_1</th>\n",
       "      <th>emissivity_2</th>\n",
       "      <th>theta_e</th>\n",
       "      <th>theta_r</th>\n",
       "      <th>C_2</th>\n",
       "      <th>l_h</th>\n",
       "      <th>l_w</th>\n",
       "      <th>l_d</th>\n",
       "      <th>angle</th>\n",
       "      <th>l_s</th>\n",
       "      <th>emissivity_1</th>\n",
       "      <th>u_dash</th>\n",
       "      <th>eta_dash</th>\n",
       "      <th>q_room_side</th>\n",
       "    </tr>\n",
       "  </thead>\n",
       "  <tbody>\n",
       "    <tr>\n",
       "      <th>0</th>\n",
       "      <td>0.00</td>\n",
       "      <td>0.0</td>\n",
       "      <td>0.0</td>\n",
       "      <td>0.25</td>\n",
       "      <td>0.05</td>\n",
       "      <td>-10.0</td>\n",
       "      <td>20.0</td>\n",
       "      <td>2.55</td>\n",
       "      <td>7.5</td>\n",
       "      <td>5.025</td>\n",
       "      <td>0.175</td>\n",
       "      <td>45.0</td>\n",
       "      <td>0.45</td>\n",
       "      <td>0.9</td>\n",
       "      <td>0.190245</td>\n",
       "      <td>0.000000</td>\n",
       "      <td>-5.707350</td>\n",
       "    </tr>\n",
       "    <tr>\n",
       "      <th>1</th>\n",
       "      <td>0.00</td>\n",
       "      <td>0.0</td>\n",
       "      <td>0.0</td>\n",
       "      <td>0.25</td>\n",
       "      <td>0.10</td>\n",
       "      <td>-10.0</td>\n",
       "      <td>20.0</td>\n",
       "      <td>2.55</td>\n",
       "      <td>7.5</td>\n",
       "      <td>5.025</td>\n",
       "      <td>0.175</td>\n",
       "      <td>45.0</td>\n",
       "      <td>0.45</td>\n",
       "      <td>0.9</td>\n",
       "      <td>0.194212</td>\n",
       "      <td>0.000000</td>\n",
       "      <td>-5.826354</td>\n",
       "    </tr>\n",
       "    <tr>\n",
       "      <th>2</th>\n",
       "      <td>0.00</td>\n",
       "      <td>0.0</td>\n",
       "      <td>0.0</td>\n",
       "      <td>0.25</td>\n",
       "      <td>0.15</td>\n",
       "      <td>-10.0</td>\n",
       "      <td>20.0</td>\n",
       "      <td>2.55</td>\n",
       "      <td>7.5</td>\n",
       "      <td>5.025</td>\n",
       "      <td>0.175</td>\n",
       "      <td>45.0</td>\n",
       "      <td>0.45</td>\n",
       "      <td>0.9</td>\n",
       "      <td>0.197219</td>\n",
       "      <td>0.000000</td>\n",
       "      <td>-5.916568</td>\n",
       "    </tr>\n",
       "    <tr>\n",
       "      <th>3</th>\n",
       "      <td>0.00</td>\n",
       "      <td>0.0</td>\n",
       "      <td>0.0</td>\n",
       "      <td>0.25</td>\n",
       "      <td>0.20</td>\n",
       "      <td>-10.0</td>\n",
       "      <td>20.0</td>\n",
       "      <td>2.55</td>\n",
       "      <td>7.5</td>\n",
       "      <td>5.025</td>\n",
       "      <td>0.175</td>\n",
       "      <td>45.0</td>\n",
       "      <td>0.45</td>\n",
       "      <td>0.9</td>\n",
       "      <td>0.199577</td>\n",
       "      <td>0.000000</td>\n",
       "      <td>-5.987312</td>\n",
       "    </tr>\n",
       "    <tr>\n",
       "      <th>4</th>\n",
       "      <td>0.00</td>\n",
       "      <td>0.0</td>\n",
       "      <td>0.0</td>\n",
       "      <td>0.25</td>\n",
       "      <td>0.25</td>\n",
       "      <td>-10.0</td>\n",
       "      <td>20.0</td>\n",
       "      <td>2.55</td>\n",
       "      <td>7.5</td>\n",
       "      <td>5.025</td>\n",
       "      <td>0.175</td>\n",
       "      <td>45.0</td>\n",
       "      <td>0.45</td>\n",
       "      <td>0.9</td>\n",
       "      <td>0.201476</td>\n",
       "      <td>0.000000</td>\n",
       "      <td>-6.044275</td>\n",
       "    </tr>\n",
       "    <tr>\n",
       "      <th>...</th>\n",
       "      <td>...</td>\n",
       "      <td>...</td>\n",
       "      <td>...</td>\n",
       "      <td>...</td>\n",
       "      <td>...</td>\n",
       "      <td>...</td>\n",
       "      <td>...</td>\n",
       "      <td>...</td>\n",
       "      <td>...</td>\n",
       "      <td>...</td>\n",
       "      <td>...</td>\n",
       "      <td>...</td>\n",
       "      <td>...</td>\n",
       "      <td>...</td>\n",
       "      <td>...</td>\n",
       "      <td>...</td>\n",
       "      <td>...</td>\n",
       "    </tr>\n",
       "    <tr>\n",
       "      <th>367195</th>\n",
       "      <td>1.95</td>\n",
       "      <td>1000.0</td>\n",
       "      <td>1.0</td>\n",
       "      <td>100.25</td>\n",
       "      <td>0.80</td>\n",
       "      <td>-10.0</td>\n",
       "      <td>20.0</td>\n",
       "      <td>2.55</td>\n",
       "      <td>7.5</td>\n",
       "      <td>5.025</td>\n",
       "      <td>0.175</td>\n",
       "      <td>45.0</td>\n",
       "      <td>0.45</td>\n",
       "      <td>0.9</td>\n",
       "      <td>1.716215</td>\n",
       "      <td>0.014719</td>\n",
       "      <td>-36.767566</td>\n",
       "    </tr>\n",
       "    <tr>\n",
       "      <th>367196</th>\n",
       "      <td>1.95</td>\n",
       "      <td>1000.0</td>\n",
       "      <td>1.0</td>\n",
       "      <td>100.25</td>\n",
       "      <td>0.85</td>\n",
       "      <td>-10.0</td>\n",
       "      <td>20.0</td>\n",
       "      <td>2.55</td>\n",
       "      <td>7.5</td>\n",
       "      <td>5.025</td>\n",
       "      <td>0.175</td>\n",
       "      <td>45.0</td>\n",
       "      <td>0.45</td>\n",
       "      <td>0.9</td>\n",
       "      <td>1.719113</td>\n",
       "      <td>0.015154</td>\n",
       "      <td>-36.419638</td>\n",
       "    </tr>\n",
       "    <tr>\n",
       "      <th>367197</th>\n",
       "      <td>1.95</td>\n",
       "      <td>1000.0</td>\n",
       "      <td>1.0</td>\n",
       "      <td>100.25</td>\n",
       "      <td>0.90</td>\n",
       "      <td>-10.0</td>\n",
       "      <td>20.0</td>\n",
       "      <td>2.55</td>\n",
       "      <td>7.5</td>\n",
       "      <td>5.025</td>\n",
       "      <td>0.175</td>\n",
       "      <td>45.0</td>\n",
       "      <td>0.45</td>\n",
       "      <td>0.9</td>\n",
       "      <td>1.721885</td>\n",
       "      <td>0.015570</td>\n",
       "      <td>-36.086667</td>\n",
       "    </tr>\n",
       "    <tr>\n",
       "      <th>367198</th>\n",
       "      <td>1.95</td>\n",
       "      <td>1000.0</td>\n",
       "      <td>1.0</td>\n",
       "      <td>100.25</td>\n",
       "      <td>0.95</td>\n",
       "      <td>-10.0</td>\n",
       "      <td>20.0</td>\n",
       "      <td>2.55</td>\n",
       "      <td>7.5</td>\n",
       "      <td>5.025</td>\n",
       "      <td>0.175</td>\n",
       "      <td>45.0</td>\n",
       "      <td>0.45</td>\n",
       "      <td>0.9</td>\n",
       "      <td>1.724541</td>\n",
       "      <td>0.015969</td>\n",
       "      <td>-35.767707</td>\n",
       "    </tr>\n",
       "    <tr>\n",
       "      <th>367199</th>\n",
       "      <td>1.95</td>\n",
       "      <td>1000.0</td>\n",
       "      <td>1.0</td>\n",
       "      <td>100.25</td>\n",
       "      <td>1.00</td>\n",
       "      <td>-10.0</td>\n",
       "      <td>20.0</td>\n",
       "      <td>2.55</td>\n",
       "      <td>7.5</td>\n",
       "      <td>5.025</td>\n",
       "      <td>0.175</td>\n",
       "      <td>45.0</td>\n",
       "      <td>0.45</td>\n",
       "      <td>0.9</td>\n",
       "      <td>1.727088</td>\n",
       "      <td>0.016351</td>\n",
       "      <td>-35.461894</td>\n",
       "    </tr>\n",
       "  </tbody>\n",
       "</table>\n",
       "<p>367200 rows × 17 columns</p>\n",
       "</div>"
      ],
      "text/plain": [
       "         v_a  j_surf  a_surf     C_1  emissivity_2  theta_e  theta_r   C_2  \\\n",
       "0       0.00     0.0     0.0    0.25          0.05    -10.0     20.0  2.55   \n",
       "1       0.00     0.0     0.0    0.25          0.10    -10.0     20.0  2.55   \n",
       "2       0.00     0.0     0.0    0.25          0.15    -10.0     20.0  2.55   \n",
       "3       0.00     0.0     0.0    0.25          0.20    -10.0     20.0  2.55   \n",
       "4       0.00     0.0     0.0    0.25          0.25    -10.0     20.0  2.55   \n",
       "...      ...     ...     ...     ...           ...      ...      ...   ...   \n",
       "367195  1.95  1000.0     1.0  100.25          0.80    -10.0     20.0  2.55   \n",
       "367196  1.95  1000.0     1.0  100.25          0.85    -10.0     20.0  2.55   \n",
       "367197  1.95  1000.0     1.0  100.25          0.90    -10.0     20.0  2.55   \n",
       "367198  1.95  1000.0     1.0  100.25          0.95    -10.0     20.0  2.55   \n",
       "367199  1.95  1000.0     1.0  100.25          1.00    -10.0     20.0  2.55   \n",
       "\n",
       "        l_h    l_w    l_d  angle   l_s  emissivity_1    u_dash  eta_dash  \\\n",
       "0       7.5  5.025  0.175   45.0  0.45           0.9  0.190245  0.000000   \n",
       "1       7.5  5.025  0.175   45.0  0.45           0.9  0.194212  0.000000   \n",
       "2       7.5  5.025  0.175   45.0  0.45           0.9  0.197219  0.000000   \n",
       "3       7.5  5.025  0.175   45.0  0.45           0.9  0.199577  0.000000   \n",
       "4       7.5  5.025  0.175   45.0  0.45           0.9  0.201476  0.000000   \n",
       "...     ...    ...    ...    ...   ...           ...       ...       ...   \n",
       "367195  7.5  5.025  0.175   45.0  0.45           0.9  1.716215  0.014719   \n",
       "367196  7.5  5.025  0.175   45.0  0.45           0.9  1.719113  0.015154   \n",
       "367197  7.5  5.025  0.175   45.0  0.45           0.9  1.721885  0.015570   \n",
       "367198  7.5  5.025  0.175   45.0  0.45           0.9  1.724541  0.015969   \n",
       "367199  7.5  5.025  0.175   45.0  0.45           0.9  1.727088  0.016351   \n",
       "\n",
       "        q_room_side  \n",
       "0         -5.707350  \n",
       "1         -5.826354  \n",
       "2         -5.916568  \n",
       "3         -5.987312  \n",
       "4         -6.044275  \n",
       "...             ...  \n",
       "367195   -36.767566  \n",
       "367196   -36.419638  \n",
       "367197   -36.086667  \n",
       "367198   -35.767707  \n",
       "367199   -35.461894  \n",
       "\n",
       "[367200 rows x 17 columns]"
      ]
     },
     "execution_count": 11,
     "metadata": {},
     "output_type": "execute_result"
    }
   ],
   "source": [
    "df_winter = get_wall_status_data_by_simplified_calculation_no_03(\n",
    "    getParameterList(arg_theta_e=-10.0, arg_theta_r=20.0, v_a_array=v_a_array, j_surf_array=j_surf_array,\n",
    "                     a_surf_array=a_surf_array, C_1_array=C_1_array, emissivity_2_array=emissivity_2_array)\n",
    ")\n",
    "df_winter"
   ]
  },
  {
   "cell_type": "markdown",
   "metadata": {},
   "source": [
    "### 冬期条件：風速による影響の確認\n",
    "#### 室内表面熱流"
   ]
  },
  {
   "cell_type": "code",
   "execution_count": 12,
   "metadata": {},
   "outputs": [
    {
     "data": {
      "image/png": "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\n",
      "text/plain": [
       "<Figure size 460.8x345.6 with 1 Axes>"
      ]
     },
     "metadata": {
      "needs_background": "light"
     },
     "output_type": "display_data"
    }
   ],
   "source": [
    "# 分析条件を固定\n",
    "df = df_winter.query(\"a_surf == 0.5 & C_1 == 50.25 & emissivity_2 == 0.5\")\n",
    "# グラフ描画\n",
    "setPltComparison(df=df, fig_title='winter',\n",
    "                 x_label='Mean wind speed of vent layer[m/s]',\n",
    "                 y_label='Room Side Heat Flow[W/m2]',\n",
    "                 x_data_name='v_a', y_data_name='q_room_side',\n",
    "                 query_label='Solar radiation[W/m2]',\n",
    "                 query_data_name='j_surf',\n",
    "                 query_data_list=j_surf_array,\n",
    "                 xlim_min=min(v_a_array), xlim_max=max(v_a_array),\n",
    "                 ylim_min=df_winter['q_room_side'].min(), ylim_max=df_winter['q_room_side'].max()\n",
    "                )"
   ]
  },
  {
   "cell_type": "markdown",
   "metadata": {},
   "source": [
    "#### 修正熱貫流率、修正日射熱取得率"
   ]
  },
  {
   "cell_type": "code",
   "execution_count": 13,
   "metadata": {},
   "outputs": [
    {
     "data": {
      "image/png": "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\n",
      "text/plain": [
       "<Figure size 252x230.4 with 1 Axes>"
      ]
     },
     "metadata": {
      "needs_background": "light"
     },
     "output_type": "display_data"
    },
    {
     "data": {
      "image/png": "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\n",
      "text/plain": [
       "<Figure size 252x230.4 with 1 Axes>"
      ]
     },
     "metadata": {
      "needs_background": "light"
     },
     "output_type": "display_data"
    }
   ],
   "source": [
    "# 分析条件を固定\n",
    "df = df_winter.query(\"a_surf == 0.5 & j_surf == 1000.0  & C_1 == 50.25 & emissivity_2 == 0.5\")\n",
    "# グラフ描画\n",
    "setPltComparison_NoLegend(df=df, fig_title='U\\'',\n",
    "                 x_label='Mean wind speed of vent layer[m/s]',\n",
    "                 y_label='Thermal transmission\\ncoefficient[W/(m2K)]',\n",
    "                 x_data_name='v_a', y_data_name='u_dash',\n",
    "                 xlim_min=0.0, xlim_max=2.0,\n",
    "                 ylim_min=0.0, ylim_max=2.0\n",
    "                )\n",
    "# グラフ描画\n",
    "setPltComparison_NoLegend(df=df, fig_title='η\\'',\n",
    "                 x_label='Mean wind speed of vent layer[m/s]',\n",
    "                 y_label='Solar Heat Gain Coefficient[-]',\n",
    "                 x_data_name='v_a', y_data_name='eta_dash',\n",
    "                 xlim_min=0.0, xlim_max=2.0,\n",
    "                 ylim_min=0.0, ylim_max=0.05\n",
    "                )"
   ]
  },
      ]
     },
     "metadata": {
      "needs_background": "light"
     },
     "output_type": "display_data"
    }
   ],
   "source": [
    "# 分析条件を固定\n",
    "df = df_winter.query(\"a_surf == 0.5 & v_a == 0.5 & emissivity_2 == 0.5\")\n",
    "# グラフ描画\n",
    "setPltComparison(df=df, fig_title='winter', x_label='C_1', y_label='q_room_side',\n",
    "                 query_target='j_surf', query_data_list=j_surf_array,\n",
    "                xlim_min=min(v_a_array), xlim_max=max(v_a_array),\n",
    "                ylim_min=df_winter['q_room_side'].min(), ylim_max=df_winter['q_room_side'].max()\n",
    "                )"
   ]
  },
  {
   "cell_type": "markdown",
   "metadata": {},
   "source": [
    "### 夏期条件のDataFrameを作成"
   ]
  },
  {
   "cell_type": "code",
   "execution_count": 13,
   "metadata": {},
   "outputs": [
    {
     "data": {
      "text/html": [
       "<div>\n",
       "<style scoped>\n",
       "    .dataframe tbody tr th:only-of-type {\n",
       "        vertical-align: middle;\n",
       "    }\n",
       "\n",
       "    .dataframe tbody tr th {\n",
       "        vertical-align: top;\n",
       "    }\n",
       "\n",
       "    .dataframe thead th {\n",
       "        text-align: right;\n",
       "    }\n",
       "</style>\n",
       "<table border=\"1\" class=\"dataframe\">\n",
       "  <thead>\n",
       "    <tr style=\"text-align: right;\">\n",
       "      <th></th>\n",
       "      <th>v_a</th>\n",
       "      <th>j_surf</th>\n",
       "      <th>a_surf</th>\n",
       "      <th>C_1</th>\n",
       "      <th>emissivity_2</th>\n",
       "      <th>theta_e</th>\n",
       "      <th>theta_r</th>\n",
       "      <th>C_2</th>\n",
       "      <th>l_h</th>\n",
       "      <th>l_w</th>\n",
       "      <th>l_d</th>\n",
       "      <th>angle</th>\n",
       "      <th>l_s</th>\n",
       "      <th>emissivity_1</th>\n",
       "      <th>q_room_side</th>\n",
       "    </tr>\n",
       "  </thead>\n",
       "  <tbody>\n",
       "    <tr>\n",
       "      <th>0</th>\n",
       "      <td>0.00</td>\n",
       "      <td>0.0</td>\n",
       "      <td>0.0</td>\n",
       "      <td>0.5</td>\n",
       "      <td>0.1</td>\n",
       "      <td>35.0</td>\n",
       "      <td>27.0</td>\n",
       "      <td>2.55</td>\n",
       "      <td>7.5</td>\n",
       "      <td>5.025</td>\n",
       "      <td>0.175</td>\n",
       "      <td>90.0</td>\n",
       "      <td>0.45</td>\n",
       "      <td>0.9</td>\n",
       "      <td>2.517550</td>\n",
       "    </tr>\n",
       "    <tr>\n",
       "      <th>1</th>\n",
       "      <td>0.00</td>\n",
       "      <td>0.0</td>\n",
       "      <td>0.0</td>\n",
       "      <td>0.5</td>\n",
       "      <td>0.5</td>\n",
       "      <td>35.0</td>\n",
       "      <td>27.0</td>\n",
       "      <td>2.55</td>\n",
       "      <td>7.5</td>\n",
       "      <td>5.025</td>\n",
       "      <td>0.175</td>\n",
       "      <td>90.0</td>\n",
       "      <td>0.45</td>\n",
       "      <td>0.9</td>\n",
       "      <td>2.867536</td>\n",
       "    </tr>\n",
       "    <tr>\n",
       "      <th>2</th>\n",
       "      <td>0.00</td>\n",
       "      <td>0.0</td>\n",
       "      <td>0.0</td>\n",
       "      <td>0.5</td>\n",
       "      <td>0.9</td>\n",
       "      <td>35.0</td>\n",
       "      <td>27.0</td>\n",
       "      <td>2.55</td>\n",
       "      <td>7.5</td>\n",
       "      <td>5.025</td>\n",
       "      <td>0.175</td>\n",
       "      <td>90.0</td>\n",
       "      <td>0.45</td>\n",
       "      <td>0.9</td>\n",
       "      <td>2.961713</td>\n",
       "    </tr>\n",
       "    <tr>\n",
       "      <th>3</th>\n",
       "      <td>0.00</td>\n",
       "      <td>0.0</td>\n",
       "      <td>0.0</td>\n",
       "      <td>2.5</td>\n",
       "      <td>0.1</td>\n",
       "      <td>35.0</td>\n",
       "      <td>27.0</td>\n",
       "      <td>2.55</td>\n",
       "      <td>7.5</td>\n",
       "      <td>5.025</td>\n",
       "      <td>0.175</td>\n",
       "      <td>90.0</td>\n",
       "      <td>0.45</td>\n",
       "      <td>0.9</td>\n",
       "      <td>5.070695</td>\n",
       "    </tr>\n",
       "    <tr>\n",
       "      <th>4</th>\n",
       "      <td>0.00</td>\n",
       "      <td>0.0</td>\n",
       "      <td>0.0</td>\n",
       "      <td>2.5</td>\n",
       "      <td>0.5</td>\n",
       "      <td>35.0</td>\n",
       "      <td>27.0</td>\n",
       "      <td>2.55</td>\n",
       "      <td>7.5</td>\n",
       "      <td>5.025</td>\n",
       "      <td>0.175</td>\n",
       "      <td>90.0</td>\n",
       "      <td>0.45</td>\n",
       "      <td>0.9</td>\n",
       "      <td>6.723528</td>\n",
       "    </tr>\n",
       "    <tr>\n",
       "      <th>...</th>\n",
       "      <td>...</td>\n",
       "      <td>...</td>\n",
       "      <td>...</td>\n",
       "      <td>...</td>\n",
       "      <td>...</td>\n",
       "      <td>...</td>\n",
       "      <td>...</td>\n",
       "      <td>...</td>\n",
       "      <td>...</td>\n",
       "      <td>...</td>\n",
       "      <td>...</td>\n",
       "      <td>...</td>\n",
       "      <td>...</td>\n",
       "      <td>...</td>\n",
       "      <td>...</td>\n",
       "    </tr>\n",
       "    <tr>\n",
       "      <th>55075</th>\n",
       "      <td>1.95</td>\n",
       "      <td>1000.0</td>\n",
       "      <td>1.0</td>\n",
       "      <td>98.5</td>\n",
       "      <td>0.5</td>\n",
       "      <td>35.0</td>\n",
       "      <td>27.0</td>\n",
       "      <td>2.55</td>\n",
       "      <td>7.5</td>\n",
       "      <td>5.025</td>\n",
       "      <td>0.175</td>\n",
       "      <td>90.0</td>\n",
       "      <td>0.45</td>\n",
       "      <td>0.9</td>\n",
       "      <td>27.855546</td>\n",
       "    </tr>\n",
       "    <tr>\n",
       "      <th>55076</th>\n",
       "      <td>1.95</td>\n",
       "      <td>1000.0</td>\n",
       "      <td>1.0</td>\n",
       "      <td>98.5</td>\n",
       "      <td>0.9</td>\n",
       "      <td>35.0</td>\n",
       "      <td>27.0</td>\n",
       "      <td>2.55</td>\n",
       "      <td>7.5</td>\n",
       "      <td>5.025</td>\n",
       "      <td>0.175</td>\n",
       "      <td>90.0</td>\n",
       "      <td>0.45</td>\n",
       "      <td>0.9</td>\n",
       "      <td>32.590545</td>\n",
       "    </tr>\n",
       "    <tr>\n",
       "      <th>55077</th>\n",
       "      <td>1.95</td>\n",
       "      <td>1000.0</td>\n",
       "      <td>1.0</td>\n",
       "      <td>100.5</td>\n",
       "      <td>0.1</td>\n",
       "      <td>35.0</td>\n",
       "      <td>27.0</td>\n",
       "      <td>2.55</td>\n",
       "      <td>7.5</td>\n",
       "      <td>5.025</td>\n",
       "      <td>0.175</td>\n",
       "      <td>90.0</td>\n",
       "      <td>0.45</td>\n",
       "      <td>0.9</td>\n",
       "      <td>19.980180</td>\n",
       "    </tr>\n",
       "    <tr>\n",
       "      <th>55078</th>\n",
       "      <td>1.95</td>\n",
       "      <td>1000.0</td>\n",
       "      <td>1.0</td>\n",
       "      <td>100.5</td>\n",
       "      <td>0.5</td>\n",
       "      <td>35.0</td>\n",
       "      <td>27.0</td>\n",
       "      <td>2.55</td>\n",
       "      <td>7.5</td>\n",
       "      <td>5.025</td>\n",
       "      <td>0.175</td>\n",
       "      <td>90.0</td>\n",
       "      <td>0.45</td>\n",
       "      <td>0.9</td>\n",
       "      <td>27.876305</td>\n",
       "    </tr>\n",
       "    <tr>\n",
       "      <th>55079</th>\n",
       "      <td>1.95</td>\n",
       "      <td>1000.0</td>\n",
       "      <td>1.0</td>\n",
       "      <td>100.5</td>\n",
       "      <td>0.9</td>\n",
       "      <td>35.0</td>\n",
       "      <td>27.0</td>\n",
       "      <td>2.55</td>\n",
       "      <td>7.5</td>\n",
       "      <td>5.025</td>\n",
       "      <td>0.175</td>\n",
       "      <td>90.0</td>\n",
       "      <td>0.45</td>\n",
       "      <td>0.9</td>\n",
       "      <td>32.619470</td>\n",
       "    </tr>\n",
       "  </tbody>\n",
       "</table>\n",
       "<p>55080 rows × 15 columns</p>\n",
       "</div>"
      ],
      "text/plain": [
       "        v_a  j_surf  a_surf    C_1  emissivity_2  theta_e  theta_r   C_2  l_h  \\\n",
       "0      0.00     0.0     0.0    0.5           0.1     35.0     27.0  2.55  7.5   \n",
       "1      0.00     0.0     0.0    0.5           0.5     35.0     27.0  2.55  7.5   \n",
       "2      0.00     0.0     0.0    0.5           0.9     35.0     27.0  2.55  7.5   \n",
       "3      0.00     0.0     0.0    2.5           0.1     35.0     27.0  2.55  7.5   \n",
       "4      0.00     0.0     0.0    2.5           0.5     35.0     27.0  2.55  7.5   \n",
       "...     ...     ...     ...    ...           ...      ...      ...   ...  ...   \n",
       "55075  1.95  1000.0     1.0   98.5           0.5     35.0     27.0  2.55  7.5   \n",
       "55076  1.95  1000.0     1.0   98.5           0.9     35.0     27.0  2.55  7.5   \n",
       "55077  1.95  1000.0     1.0  100.5           0.1     35.0     27.0  2.55  7.5   \n",
       "55078  1.95  1000.0     1.0  100.5           0.5     35.0     27.0  2.55  7.5   \n",
       "55079  1.95  1000.0     1.0  100.5           0.9     35.0     27.0  2.55  7.5   \n",
       "\n",
       "         l_w    l_d  angle   l_s  emissivity_1  q_room_side  \n",
       "0      5.025  0.175   90.0  0.45           0.9     2.517550  \n",
       "1      5.025  0.175   90.0  0.45           0.9     2.867536  \n",
       "2      5.025  0.175   90.0  0.45           0.9     2.961713  \n",
       "3      5.025  0.175   90.0  0.45           0.9     5.070695  \n",
       "4      5.025  0.175   90.0  0.45           0.9     6.723528  \n",
       "...      ...    ...    ...   ...           ...          ...  \n",
       "55075  5.025  0.175   90.0  0.45           0.9    27.855546  \n",
       "55076  5.025  0.175   90.0  0.45           0.9    32.590545  \n",
       "55077  5.025  0.175   90.0  0.45           0.9    19.980180  \n",
       "55078  5.025  0.175   90.0  0.45           0.9    27.876305  \n",
       "55079  5.025  0.175   90.0  0.45           0.9    32.619470  \n",
       "\n",
       "[55080 rows x 15 columns]"
      ]
     },
     "execution_count": 13,
     "metadata": {},
     "output_type": "execute_result"
    }
   ],
   "source": [
    "df_summer = get_wall_status_data_by_simplified_calculation_no_03(\n",
    "    getParameterList(arg_theta_e=35.0, arg_theta_r=27.0, v_a_array=v_a_array, j_surf_array=j_surf_array,\n",
    "                     a_surf_array=a_surf_array, C_1_array=C_1_array, emissivity_2_array=emissivity_2_array)\n",
    ")\n",
    "df_summer"
   ]
  },
  {
   "cell_type": "markdown",
   "metadata": {},
   "source": [
    "#### 夏期条件：風速による影響の確認"
   ]
  },
  {
   "cell_type": "code",
   "execution_count": 14,
   "metadata": {},
   "outputs": [
    {
     "data": {
      "image/png": "iVBORw0KGgoAAAANSUhEUgAAAYMAAAEjCAYAAADQeG38AAAABHNCSVQICAgIfAhkiAAAAAlwSFlzAAALEgAACxIB0t1+/AAAADh0RVh0U29mdHdhcmUAbWF0cGxvdGxpYiB2ZXJzaW9uMy4yLjIsIGh0dHA6Ly9tYXRwbG90bGliLm9yZy+WH4yJAAAgAElEQVR4nO3de3hU1b3/8fc33FQCCAQUgYhKShFTAxEx2FqiWK03bG1La2uxRaG3nxZbiz21VmuL9rHHy6+tLR48Fq0V+tNatE9VrOLRYyIIgkakXqoQArYQDAheQOD7+2Nm4hCSmT17Zs/k8nk9zzyTvddee74ZNvubtdbee5m7IyIiXVtRoQMQEZHCUzIQERElAxERUTIQERGUDEREBCUDERFByUBERFAyEBERlAxE2hUz617oGKRrUjKQTsfMZpvZBjPbbmYvm9kpZvZ7M/tZ0jaTzKwhaXmtmV1uZi+Y2TtmdruZHWJmD8X383cz6x/fdoSZuZl9zczWm1mTmX3DzMbH6281s1+3iOnrZrYmvu0jZnZ4Upmb2bfN7FXg1Tx8RSL7UTKQTsXMRgHfAca7ex/gNGBtwOrnAacCHwHOBh4C/gMoIfZ/5ZIW208AyoCpwM3Aj4DJwBjgC2b2yXhM58b381lgEPAUcE+LfZ0b39/RAWMVySklA+ls9gC9gKPNrIe7r3X3fwas+yt3/7e7byB2wl7q7ivdfSdwPzC2xfbXuvv77r4YeAe4x903JdVPbD8TuM7d17j7bmAOUJHcOoiXv+Xu74X6rUWypGQgnYq7vwZ8F7ga2GRmC8zssIDV/53083utLBeH3P5w4JZ499FW4C3AgKFJ268PGKNIJJQMpNNx9z+6+8eJnYQd+AWxv9wPStrs0DyGtB6Y6e4HJ70OdPeapG30+GApKCUD6VTMbJSZnWxmvYD3if2FvgdYBZxhZgPM7FBirYd8+R3wQzMbE4+xn5l9Po+fL5KWkoF0Nr2A64FG4F/AYGKDt3cBzxMbTF4MLMxXQO5+P7HWyQIzext4Efh0vj5fJAjT5DYiIqKWgYiIKBmIiIiSgYiIoGQgIiIoGYiICEoGIiKCkoGIiKBkICIiKBmIiAhKBiIigpKBiIigZCAiIigZiIgISgYiIoKSgYiIoGQgIiIoGYiICNC90AEEVVJS4iNGjAhV96233mLAgAG5DShHFFs4ii0cxRZOR45txYoVje4+KO2O3L1DvCorKz2suXPnhq4bNcUWjmILR7GF05FjA5Z7gHOsuolERETJQERElAxERIQONIAs0lV98MEHNDQ08P7772e9r4qKCtasWZODqHJPsYWTiO2AAw5g2LBh9OjRI9R+lAxE2rmGhgb69OnDiBEjMLOs9rV582YGDUp/YUkhKLZwNm/eTElJCVu2bKGhoYEjjjgi1H7UTSTSzr3//vsMHDgw60QgnZeZMXDgwKxaj0oGIh2AEoGkk+0xomQgIiJKBiIiomQgIgFNnDgxkv3u3LmTyZMnU11dzcKFC/cpW7FiBeXl5YwcOZJLLrmE2A21+7vuuusYOXIko0aN4pFHHmle361bNyoqKti4cSO33HIL3/3ud5vLZs6cyeTJk5uXf/WrX3HJJZfsU/70008H+h3Wr19PdXU1o0ePZsyYMdxyyy3NZZdffjmHHnoov/zlLwPtq1B0NZGIBFJTU5Pzfe7evZuVK1fywQcfsGTJkv2u2PnmN7/JbbfdxgknnMAZZ5zBww8/zKc//el9tnnppZdYsGABq1evZuPGjUyePJlXXnmFbt26ceCBB7Jq1Soglszuvvvu5nqrVq1i79697Nmzh27dulFTU8O5557bXL506VJuvfXWQL9H9+7d+c///E/GjRvH9u3bqays5NRTT+Xoo4/mhhtuoHfv3mG/orxRy0CkE6qvh4ULY++5Ulxc3Or6N998k5NOOomKigqOOeYYnnrqqf22v/fee7nwwgsBuPDCC7nsssuorq7m4osv5itf+QqrVq2iurqaf/7zn/vs9+2336aqqgoz46tf/Sp/+ctf9vv8RYsW8cUvfpFevXpxxBFHMHLkSJYtW7bfdmPHjuWVV17hvffeY9u2bRx00EFUVFRQV1cHxJJdovWzZs0aPvKRj9CtWzcmTZrEj3/8Y0466SRGjx7Ns88+y2c/+1nKysq48sorARgyZAjjxo0DoE+fPowePZoNGzZk+hUXlFoGIp1MfT2Ul8PevVBUBHV1UFoa3ef98Y9/5LTTTuNHP/oRe/bs4d13301b55VXXuHvf/873bp144knnuCXv/wld9xxB4MGDaKiooJVq1axYcMGhg0b1lxn2LBhrZ5gN2zYwAknnJB2u+7du1NRUcGzzz7Le++9x4QJEygrK6OmpobBgwfj7gwfPhyAhx56iNNPP725bo8ePXjyySe55ZZbmDJlCitWrGDAgAEcddRRzJo1i4EDBzZvu3btWlauXMmECROCfYHthJKBSCdTWxtLBDt2QHFxbDnKZDB+/Hi+/vWv88EHH3DuuedSUVGRts7nP/95unXr1mpZoluntfGB1i6fDLodwIknnkhNTQ3vvfceVVVVlJWVMWfOHAYNGrTPmMgjjzzCHXfc0bx82mmnAVBeXs6YMWMYMmQIAEceeSTr169vTgY7duzgvPPO4+abb6Zv376txtBeqZtIpJOpqoq1CIqLY+9VVdF+3kknncSTTz7J0KFDueCCC7jzzjuBfU/ILW+GCtKHPmzYMBoaGpqXGxoaOOyww1rdbv369Wm3g9i4QU1NDbW1tVRVVTF69GheeuklampqOPHEEwF499132bp16z776NWrFwBFRUXNPyeWd+/eDcQeG3Leeefx5S9/mc9+9rNpf7/2RslApJMpLY11Dc2bF30XEcC6desYPHgwF198MdOnT+e5554D4JBDDmHNmjXs3buX+++/P+P9DhkyhD59+vDMM8/g7tx5551MmTJlv+3OOeccFixYwM6dO3njjTd49dVXOf7441vd58SJE3nmmWfYvHkzgwcPxswYNGgQixYtam4ZLFmyhOrq6oxidXemT5/O6NGjueyyyzL+XdsDJQORTqi0FKZOzW0iaKvr5YknnqCiooKxY8dy3333cemllwJw/fXXc9ZZZ3HyySc3d6sEkdzN9Nvf/paLLrqIkSNHctRRRzVfSfTAAw9w1VVXATBmzBi+8IUvcPTRR3P66afzm9/8ps0uqP79+zNo0CDGjBnTvK6qqopNmzZx7LHHAvuPFwTx9NNPc9ddd/H4449TUVFBRUUFf/vb3zLaR8EFmQGnPbw001n+KbZwch3bSy+9lLN9bdq0KVS9xsZGLy0tzVkcrQkbWyq9e/fOuM7YsWN9165d+6zLNraf/OQnfsMNN2S1j7Ykx9basYJmOhORXNi4cSNVVVV8//vfL3QoGevbt2/zTWdBPffcc6EfA92ayy+/nD/84Q/t/l4DXU0kIikddthhvPLKK9TV1e13pVCvXr1YunRpgSJLL5MkEJUbbriBG264odBhpBV5MjCzg4F5wDGAA18HXgYWAiOAtcAX3L0p6lhEJLzy8vLmyz6l88lHN9EtwMPu/lHgWGANcAXwmLuXAY/Fl0VEpEAiTQZm1hc4CbgdwN13uftWYAowP77ZfODc1vcgIiL5YN7GUwBzsnOzCuA24CVirYIVwKXABnc/OGm7Jnfv30r9GcAMgIEDB1bOmTMnVByNjY2UlJSEqhs1xRZOV4qtoqIi9FSGLe3evZvu3dvnUKFiCyc5tjfeeGO/rryZM2eucPfj0u4oyCVHYV/AccBuYEJ8+RbgWmBri+2a0u1Ll5bmn2ILpzNeWpoPii2cjnJpaQPQ4O6Jyw3uBcYB/zazIQDx900RxyEiWSrEfAaTJk1i1KhRzTdybdq0qbnO1KlTGTlyJBMmTGDt2rXNdebPn09ZWRllZWXMnz+f1rRV/4knnqBfv36cccYZAHzmM5/Z50mpo0aN4mc/+1nz8nnnncef//zn5uXKykp27doV6Pd+9NFHqayspLy8nMrKSh5//PHmsurqaoqLi1m+fHmgfeVCpMnA3f8FrDezUfFVpxDrMnoAmBZfNw1YFGUcIpK9fMxnMHXq1P22ufvuu1m1ahWrVq1i8ODBANx+++3079+f1157jVmzZjF79mwA3nrrLa655hqWLl3KsmXLuOaaa2hq2v9CxbbqA3ziE59ovns48SwjgC1btlBcXExtbW3ztrW1tc1Jcu3atQwdOpSePXsG+t1LSkp48MEHqaurY/78+VxwwQXNZUuWLOG449L37ORSPq4m+j/A3Wb2AlABzAGuB041s1eBU+PLIpIj9dvqWfjiQuq35W5Cg3zPZ5DKokWLmDYt9vfk5z73OR577DHcnUceeYRTTz2VAQMG0L9/f0499VQefvjhwPVbSjzlFGLJ8KyzzmLz5s24O2+88QYHHngghx56KLDvYyyKi4uZPXs2lZWVTJ48mWXLljFp0iSOPPJIHnjgASA2v0LiYXhjxozh/fffZ+fOnYF+/yhEngzcfZW7H+fuH3P3c929yd23uPsp7l4Wf38r6jhEuor6bfWU31rORQ9eRPmt5TlNCK1JzGewatUqnn/++UCPsE7MZ3DHHXcwb948PvGJT7BkyRKOOuqo/ep/7Wtfo6Kigmuvvbb5hL1hw4bmuQe6d+9Ov3792LJlyz7rIfUcCK3Vb6myspIXX3yRXbt2UVNTQ1VVFaNGjWLNmjX7POkU4OGHH25OBu+88w6TJk1ixYoV9OnThyuvvJJHH32U+++/v/mZSsnuu+8+xo4du88TUfOtfQ6Pi0hotetr2cteduzaQXHPYmrX11LaL7pHl0Y1nwHEuoiGDh3K9u3bOe+887jrrrv46le/2uYcBm2tbynodr169WLMmDG88MILPPPMM/zgBz/g9ddfp6amhpUrVzZ3Ee3atYuGhgaOPPJIAHr27NmcGMrLy+nVqxc9evSgvLx8n/ENgNWrVzN79mwWL17c6veRL3o2kUgnUzW8iiKKKO5ZTBFFVA2PdkKDqOYzABg6dCgQm0ry/PPPb57OMnkOg927d7Nt2zYGDBgQeG6Dtuq3ZuLEidTW1rJ9+3b69+/PCSecQE1NzT4tg6eeeoqPf/zjzXV69OjR/Psnz4GQPP9BIr7PfOYz3HnnnRx11FGBvpOoKBmIdDKl/Uqp+1Yd886eR9236iJtFUB08xns3r2bxsZGIDZxzF//+leOOeYYIDaHQeJKoXvvvZeTTz4ZM+O0005j8eLFNDU10dTUxOLFi5tnKUvWVv3WnHjiidx5553Nj7j+2Mc+xjPPPEN9fX3zo7Affvjh5sdrB7V161bOPPNMrrvuun26mwpF3UQinVBpv9KcJ4FU8xnccMMN9OjRg+Li4uaWQWI+g+HDh3PMMcewY8eOQJ+TmAN5586dnHbaaXzwwQfs2bOHyZMnc/HFFwMwffp0LrjgAkaOHMmAAQNYsGABAAMGDODHP/4x48ePB+Cqq65q/ov/qquu4rjjjuOcc85ps35rJk6cyLp166iKTxnXvXt3Bg8ezPDhwykqKmr+Dn76058G+v0Sfv3rX/Paa69x7bXXcu211wKwePHi5ium8i7IzQjt4aWbzvJPsYXTGW8666jzGWRqyZIlfuaZZ+63PlVs69ev99NPPz3nsXzyk5/0Z599Nu12HeWmMxHp4DryfAaZ6tmzJy+++GLzTWdBDBs2jIceeiincVRXV/P666/ndF6FdNRNJCIpdeT5DDI1ceLE/a72KYQlS5bk/TOVDEQkEM1n0Lmpm0hERJQMREREyUBERFAyEBERlAxEJKBCzGfwox/9iOHDh+/3xNQw8xm88cYbTJgwgbKyMqZOndrmvANt1R8xYgTl5eUsX76cRYsWce65H87We9111zFy5Mjm5QcffJBzzjlnn/K777470Pfx7rvvcuaZZ/LRj36UMWPGcMUVH04Rf9NNN1FaWsp3vvOdQPvKhJKBiARSiPkMzj777ObnESULM5/B7NmzmTVrFq+++ir9+/fn9ttv32+/6eZDSMwzkHheUUJtbS19+/Ztnnyn5RNNFy9ezKc+9anA38v3v/99/vGPf7By5Uqefvrp5vsYZs2alfGdzkEpGYh0RvX1sHBh7D1HCjGfwQknnMCQIUP2+8xM5zNwdx5//HE+97nPATBt2rR9ZjBLCDofwqBBg+jXrx+vvfYaEHsk9nnnnbfP3AeJltTbb7/Nrl27GDRoEBdeeCHf/OY3qa6u5sgjj+R//ud/+PrXv87o0aObv5+DDjqI6upqIHYT3Lhx42hoaGj1u88lJQORzqa+HsrL4aKLYu85TAitiXo+g9ZkOp/Bli1bOPjgg5snjg8yz0Gq7eDDWdBefvllysrKmp9munv3bl544YXm5yP9/e9/55RTTmmu19TUxOOPP85NN93E2WefzaxZs1i9ejV1dXX73cexdetWHnzwwX3qR0XJQKSzqa2FvXthx47Ye1J3RhTGjx/PHXfcwdVXX01dXR19+vRJWyfofAZt8QznM2hrfdD9tiYxC1pi0pvjjz+epUuXsnLlSkaNGsUBBxwA7P9E07PPPhszo7y8nEMOOYTy8nKKiooYM2bMPmMfu3fv5ktf+hKXXHJJ8zwJUVIyEOlsqqqgqAiKi2PvVR13PoO2ZDqfQUlJCVu3bm2eSyDIPAeptoMPWwaJZNCnTx/ef/99nnjiiX3GC5YtW8bxxx/fvJw8t0HyzGYt5zqYMWMGZWVlfPe7383ouwlLyUCksykthbo6mDcv9l7aMeczSCXT+QzMjOrqau69914gdsXQlClT9ttv0PkQAI4++mg2btzIU089xdixY4HY47d/97vfNY8XrF69mo9+9KNttoLacuWVV7Jt2zZuvvnmjOplQ8lApDMqLYWpU3OaCFLNZ1BRUcHYsWO57777uPTSS4EP5zM4+eSTWx0EbkvymMEPfvADhg0bxrvvvsuwYcO4+uqrgdh8Blu2bGHkyJHceOONXH/99cC+8xmMHz9+n/kMfvGLX3DjjTcycuRItmzZwvTp0wFYvnw5F110Udr6rX0fEyZMoKSkpPnpolVVVbz++uvNyeChhx5qnv4yqIaGBn7+85/z0ksvMW7cOCoqKpg3b15G+wglyHOu28NL8xnkn2ILR/MZhNMe5jNoy6ZNm/zwww/3zZs3Z1Rv8uTJvnHjxpzGcscdd/i3v/3tfWJL0HwGIhKZrjSfQSqDBg3ilFNOYfny5YHrPProoxm1itK56aabuO666+jbt2/O9pmgR1iLSEpdaT6DVJ599tlCh8CsWbOYNWtWJPtWMhDpANy9zT77fNF8Bu2bt3JZbCbUTSTSzh1wwAFs2bIl6//s0nm5O1u2bGm+tyGMyFsGZrYW2A7sAXa7+3FmNgBYCIwA1gJfcPemtvYh0pUNGzaMhoYGNm/enPW+tm/fTmNjYw6iyj3FFk4itgMOOIBhw4aF3k++uomq3T35m7wCeMzdrzezK+LLs/MUi0iH0qNHD4444oic7Ou2225jxowZOdlXrim2cHIVW6G6iaYAiWfDzgfOTbGtiIhEzKLuhzSzN4AmwIG57n6bmW1194OTtmly9/6t1J0BzAAYOHBg5Zw5c0LF0NjYSElJSai6UVNs4Si2cBRbOB05tpkzZ65w9+PS7ijIzQjZvIDD4u+DgeeBk4CtLbZpSrcf3XSWf4otHMUWjmILJ11stJebztx9Y/x9E3A/cDzwbzMbAhB/3xR1HCIi0rZIk4GZ9TazPomfgU8BLwIPANPim00DFkUZh4iIpBb11USHAPfHb5bpDvzR3R82s2eBP5nZdKAe+HzEcYiISAqRJgN3fx04tpX1W4Dop+4REZFAdAeyiIgoGYiIiJKBiIigZCAiIigZiIgISgYiIoKSgYiIoGQgIiIoGYiICEoGIiKCkoGIiKBkICIiKBmIiAhKBiIigpKBiIigZCAiImSQDMzsI2b2mJm9GF/+mJldGV1oIiKSL5m0DP4L+CHwAYC7vwB8MYqgREQkvzJJBge5+7IW63bnMhgRESmMTJJBo5kdBTiAmX0OeDOSqEREJK+6Z7Dtt4HbgI+a2QbgDeArkUQlIiJ5FTgZuPvrwGQz6w0Uufv26MISEZF8SpsMzOyyNtYD4O435jgmERHJsyAtgz7x91HAeOCB+PLZwJNRBCUiIvmVNhm4+zUAZrYYGJfoHjKzq4H/F+RDzKwbsBzY4O5nmdkAYCEwAlgLfMHdm0LELyIiOZDJ1USlwK6k5V3ETuZBXAqsSVq+AnjM3cuAx+LLIiJSIJkkg7uAZWZ2tZn9BFgK3JmukpkNA84E5iWtngLMj/88Hzg3gzhERCTHzN2Db2w2DvhEfPFJd18ZoM69wHXExh6+H+8m2uruBydt0+Tu/VupOwOYATBw4MDKOXPmBI41WWNjIyUlJaHqRk2xhaPYwlFs4XTk2GbOnLnC3Y9LuyN3T/kC+sbfB7T2SlP3LODW+M+TgL/Gf97aYrumdHFUVlZ6WHPnzg1dN2qKLRzFFo5iC6cjxwYs9zTnV3cPdDXRH+Mn9RXE7z6Os/jykSnqngicY2ZnAAcAfc3sD8C/zWyIu79pZkOATQHiEBGRiKQdM3D3s+LvR7j7kUmvI9w9VSLA3X/o7sPcfQSxh9o97u5fIXZ56rT4ZtOARVn9FiIikpVMHmF9YvzuY8zsK2Z2o5mVhvzc64FTzexV4NT4soiIFEgmVxP9FnjXzI4FfgCsI3aFUSDu/kRSK2OLu5/i7mXx97cyilpERHIqk2SwOz4YMQW4xd1v4cO7k0VEpAPL5Kml283sh8SeVHpS/K7iHtGEJSIi+ZRJy2AqsBOY7u7/AoYCN0QSlYiI5FUmj7D+F3Bj0nI9SXcgm1mtu1flNjwREcmHTFoG6RyQw32JiEge5TIZBH+uhYiItCu5TAYiItJB5TIZWA73JSIieZTJpaUAmFnf5HpJN4xdkKugREQkvwInAzObCfwUeI8PxweaH1Tn7i/mPDoREcmLTFoG3wfGuHtjVMGIiEhhZDJm8E/g3agCiUx9PTQ1xd5FRKRVmbQMfgjUmNlSYnciA+Dul+Q8qlypr4fycjj//Nh7XR2Uhn3QqohI55VJMpgLPA7UAXujCSfHamth794PX7W1SgYiIq3IJBnsdvfLIoskClVVUFT04atKT8sQEWlNJmMGS8xshpkNMbMBiVdkkeVCaWmsa2jECHURiYikkEnL4Pz4+w+T1qWbA7nwSkuhf38lAhGRFDJ5aukRUQYiIiKFk8lNZz2AbwInxVc9Acx19w8iiEtERPIok26i3xKb2ezW+PIF8XUX5TooERHJr0ySwXh3PzZp+XEzez7XAYmISP5lcjXRHjM7KrFgZkcCe3IfkoiI5FsmLYPLiV1e+jqxx1UfDnwtkqjyqb4+djNaVZWuOBKRLiuTq4keM7MyYBSxZPAPd9+Zplr7lnhcxd69sZvSdC+CiHRRgbuJ4lcTzQSuAn4MXBxfl6rOAWa2zMyeN7PVZnZNfP0AM3vUzF6Nv/fP5pcILfG4ih07PnxchYhIF5TJmMFvgUpiVxPdGv/5t2nq7AROjg88VwCnm9kJwBXAY+5eBjwWX86/xOMqiov1uAoR6dIivZrI3R3YEV/sEX85MAWYFF8/n9g9C7MziCU3Eo+r0JiBiHRxmSSDPWZ2lLv/E4JfTWRm3YAVwEjgN+6+1MwOcfc3Adz9TTMbHCL23CgtVRIQkS7PYn+8B9jQ7GTg98A+VxO5+5KA9Q8G7gf+D/C/7n5wUlmTu+83bmBmM4AZAAMHDqycM2dOoFhbamxspKSkJFRddu2Cd96B3r2hZ89w+0ghq9giptjCUWzhKLZw0sU2c+bMFe5+XNoduXvaF9ANmAX0Aj4GHAv0ClK3xX5+Qmz6zJeBIfF1Q4CX09WtrKz0sObOnRuu4rp17n37uhcXx97XrQsdQ1tCx5YHii0cxRaOYgsnXWzAcg9wfg40gOzue4Bz3H2nu7/g7s97gMtKzWxQvEWAmR0ITAb+ATwATItvNg1YFCSOvNPVRiLSRWQyZlBjZr8GFgLvJFa6+3Mp6gwB5sfHDYqAP7n7X82sFviTmU0H6oHPZx56HuhqIxHpIjJJBhPj7z9NWufAyW1VcPcXgLGtrN8CnJLBZxdGuquNdPeyiHQSmdyBXJ2q3Mymufv87ENqZ9q62kh3L4tIJ5LJTWfpXJrDfbV/QcYT6uth4cLYu4hIO5ZJN1E6lsN9tX/pxhPUchCRDiSXLYNgNyx0FonxhHnzWj/RB205NDWp5SAiBZfLZNC1WgYQSwBTp7b+F3/QlsPatbF3JQQRKaBM5kC+LM0mT2cZS+eS7kqkRMsh8aqt1dVKIlIwmYwZHAeMJ3bDGMDZwJPAegB3/05uQ+sEUj33KNFySLw05iAiBZRJN1EJMM7dv+fu3yP2COth7n6Nu18TTXidWKLlMGJEdmMOulpJRHIgk5ZBKbAraXkXMCKn0XQ1paXQv392Yw6pWg7qZhKRgDJJBncBy8zsfmJXDn2G2FwEEoWgYw47dsQSRssxh3TJQolCRJJkcgfyz83sIeAT8VVfc/eV0YQlQLAxh7ZaDqmSRdBWReKyVyULkU4vo0tL3f05d78l/lIiKKR09zmkShbpxiOCXPaq8QqRTiWXdyBLvqVqOaTqZgraqmjrsleNV4h0OkoGnVlbySLdeES6y16zHa9IbKNkIdJuKBl0VUFaFffck3kXFGhwW6QDUjKQ1qW67DVoy6JQg9tKJiIZUzKQcMKOV0Dwwe1UrYrzz4+9t9aqUBeVSMaUDCQahRrcjno8Q4lEOiklAymMqAa3oxzPUBeWdGK5fIR1u1S/rZ6m95qo36br4TuMVI8GT/dMp2zuv4DU92Bke39Govyii8Lfv6H7OyQinbplUL+tnvJbyzn/g/Mpv7Wcum/VUdpPf411eKkGtxPlUYxnFLoLK9ursHRXuaTQqVsGtetr2cte9vpe9rKX2vWtPPlTup4gLY/WWhZBWx256MJqreWRqjxdqyMXd5WrVdKpdeqWQdXwKoooosiKKKKIquFV6SuJpGtZhL0/I9tLcrO5Civbu8o18N7pdYbxO9gAAAzhSURBVOpkUNqvlLpv1XHP7++h7sLWu4jqt9VTu76WquFV6kKS7EXZhZXNVVjZ3lXe3gfelWyy1qmTAcQSQv8D+7eZCMpvLWcveymiSGMKUnipkkWq8qCJJOxd5dlcpRX1vSNRt1q6yFhLpGMGZjbczJaY2RozW21ml8bXDzCzR83s1fh7/yjjaEtiTGHHrh0aU5COL9VYSKI83V3lbY2HZHOVVpiB99bKw4ylQOrxlPYw1pKqPI/jNFG3DHYD33P358ysD7DCzB4FLgQec/frzewK4ApgdsSx7CcxplDcs7jNMQV1I0mXEbZVkihrq2US9b0jUbZaoh5rybZ7LYciTQbu/ibwZvzn7Wa2BhgKTAEmxTebDzxBAZJBYkyhrZO9upFEMlCogfcoLxeOeqwlm0SVY+buke18nw8yGwE8CRwD1Lv7wUllTe6+X1eRmc0AZgAMHDiwcs6cOaE+u7GxkZKSkozrNb3XxNpta9nreymyIkb0G0H/Az8Mc9eeXbyz6x169+xNz2498xpbPii2cBRbOJHGtmsXvPMO9O4NPXsGL4uXN771FiUDBrRed/XqD5fHjNl3m2zK09WNS/e9zZw5c4W7H9fmBgnuHvkLKAZWAJ+NL29tUd6Ubh+VlZUe1ty5c0PVW7d1nfed09eL5xR73zl9fd3WdYHKkrdZULeg1bJE+fU3X99meaGF/d7yQbGFo9jCSRnbunXuCxbE3nNdnq5uutjcHVjuAc7TkV9NZGY9gPuAu939z/HV/zazIe7+ppkNATZFHUcYqbqRkgefi3sWU7u+dp/ydF1MQe6OTjdeofEMkXYgm7GWdOXp6uZQpMnAzAy4HVjj7jcmFT0ATAOuj78vijKObJT2K231RJtu8Dldsmjt7ugwySTVeEaqZKFEIiLJom4ZnAhcANSZ2ar4uv8glgT+ZGbTgXrg8xHHkXPpBp/TJYt0d0cHTSZhWiZBE0niAX9hWiVKNiIdS9RXE/0vYG0UnxLlZ+dDW62GRFmqZJHu7uigySRMyyRoImmrC6vQrZZsE5WI7K/T34FcSKmSRaK8rbujgyaTMC2ToImkrS6sQrZask1UiW3CtmqUqKSzUjJox4IkkzAtk6CJpK0urEK2WrJNVNm0arp6olLXYOemZNCJpUsW6RJJW11YhWy1ZJuosmnVdOVElYvy9pqoCh1be6FkIK1K1YWVKC9EqyXbRJVNq6YrJ6psyttzoip0bIlt2sNVf0oGUhBhWy2J8rCJKptWTVdOVNmUt+dEVejYsr3qL5eUDKTLybZV0xUTVTbl7TlRFTq2bBJVrikZiLQj7TVRZVPenhNVoWPLJlHlmpKBiESuvSaqQseWTaLKNSUDEZECyiZR5VKkM52JiEjHoGQgIiJKBiIiomQgIiIoGYiICEoGItLF1dfDwoWx97bKm5pSl6erH7Y8Xd1c0qWlIhJIfT3U1kJVVeszMaYqD1I3ccLNdN/ZlNfXQ3k57N0LRUVQV9d6+fnnx97bKk9XP0x5urq5pmQgkkdRndSC1g17wo3ypFbIE25tbWz9jh1QXBxbTq6bKE+82ipPVz9Mebq6uaZuIulyomy2p+pSSJyULroo9t5ym2zKg9ZduzbcZyefmBInxaDlQesmn3Bz9dnpyquqYgmiuDj2XtXiiQ+J8sSrrfJ09cOUp6uba0oGUhBRnXCD7LtQJ9woT2pRn3CjPKkV8oRbWhprKcyb13o3TKJ8xIjU5enqhylPVzfX1E0krYqyD7eQXQpRNtvTdSkU8q/IbE+4iRNTW/+mqcqD1r3nntQnzDCfHbQ81Ym2tBT69297myD1w5anq5tLSgYdWFT9y1H34UZ5wk1Xv5An3ChPalGfcBPbRHVSK+QJV2KUDAqovQ7oRT1o1lX/wk1sU6i/IrM94UrnpmSQhVx0lbTH7o6o+3C78l+4Iu2VkkEa2V6fHNVf31F2d0Tdh5vYRn/hirQfkSYDM/tv4Cxgk7sfE183AFgIjADWAl9w96Yo40glbFdMrrpK2mN3R2KbKPtwRaR9ibpl8Hvg18CdSeuuAB5z9+vN7Ir48uyI42hVNl0xueoqaa/dHSLStUSaDNz9STMb0WL1FGBS/Of5wBNEmAxSDdJm0xWTq64SdXeISHtQiDGDQ9z9TQB3f9PMBkf1QekGaXPRFaOuEhHpDMzdo/2AWMvgr0ljBlvd/eCk8iZ3799G3RnADICBAwdWzpkzJ6PPbmqK3Q06YEAjb71VwogRsb/Ek+3aBe+8A717Q8+eGe0+JxobGykpKcn/Bweg2MJRbOEotnDSxTZz5swV7n5c2h25e6QvYgPFLyYtvwwMif88BHg5yH4qKys9U+vWufft6/6Nb8z1vn1jy+3N3LlzCx1CmxRbOIotHMUWTrrYgOUe4BxblHVaytwDwLT4z9OARVF9UKKbp63nioiISEykycDM7gFqgVFm1mBm04HrgVPN7FXg1PhyZHQTkIhIelFfTfSlNopOifJzRUQkM4XoJhIRkXZGyUBERJQMREREyUBERFAyEBERlAxERAQlAxERQclARERQMhAREZQMREQEJQMREUHJQEREUDIQERGUDEREBCUDERFByUBERFAyEBERlAxERAQlAxERQclAREQAc/dCxxCImW0G1oWsXgI05jCcXFJs4Si2cBRbOB05tsPdfVC6nXSYZJANM1vu7scVOo7WKLZwFFs4ii2crhCbuolERETJQEREuk4yuK3QAaSg2MJRbOEotnA6fWxdYsxARERS6yotAxERSaHDJwMzO93MXjaz18zsilbKzcz+b7z8BTMbF7RuHmL7cjymF8ysxsyOTSpba2Z1ZrbKzJYXILZJZrYt/vmrzOyqoHXzENvlSXG9aGZ7zGxAvCyy783M/tvMNpnZi22UF/JYSxdbIY+1dLEV8lhLF1tBjrX4/oeb2RIzW2Nmq83s0la2yd0x5+4d9gV0A/4JHAn0BJ4Hjm6xzRnAQ4ABJwBLg9bNQ2wTgf7xnz+diC2+vBYoKeD3Ngn4a5i6UcfWYvuzgcfz9L2dBIwDXmyjvCDHWsDYCnKsBYytIMdakNgKdazF9z8EGBf/uQ/wSpTnt47eMjgeeM3dX3f3XcACYEqLbaYAd3rMM8DBZjYkYN1IY3P3Gndvii8+AwzL4ednFVtEdaPY/5eAe3L4+W1y9yeBt1JsUqhjLW1sBTzWgnxvbSn499ZC3o41AHd/092fi/+8HVgDDG2xWc6OuY6eDIYC65OWG9j/y2prmyB1o44t2XRiGT7BgcVmtsLMZuQwrkxiqzKz583sITMbk2HdqGPDzA4CTgfuS1od5feWTqGOtUzl81gLqhDHWmCFPtbMbAQwFljaoihnx1z3bIMsMGtlXcvLo9raJkjdbATev5lVE/sP+vGk1Se6+0YzGww8amb/iP8Vk6/YniN2G/sOMzsD+AtQFrBu1LElnA087e7Jf9lF+b2lU6hjLbACHGtBFOpYy0TBjjUzKyaWhL7r7m+3LG6lSqhjrqO3DBqA4UnLw4CNAbcJUjfq2DCzjwHzgCnuviWx3t03xt83AfcTa/blLTZ3f9vdd8R//hvQw8xKgtSNOrYkX6RFsz3i7y2dQh1rgRToWEurgMdaJgpyrJlZD2KJ4G53/3Mrm+TumItq8CMfL2Itm9eBI/hwkGRMi23OZN8BlmVB6+YhtlLgNWBii/W9gT5JP9cAp+c5tkP58D6U44H6+HdY8O8tvl0/Yn29vfP1vcX3O4K2B0ILcqwFjK0gx1rA2ApyrAWJrcDHmgF3Ajen2CZnx1yH7iZy991m9h3gEWKj5//t7qvN7Bvx8t8BfyM24v4a8C7wtVR18xzbVcBA4FYzA9jtsQdOHQLcH1/XHfijuz+c59g+B3zTzHYD7wFf9NhR1h6+N4DPAIvd/Z2k6pF+b2Z2D7ErX0rMrAH4CdAjKa6CHGsBYyvIsRYwtoIcawFjgwIca3EnAhcAdWa2Kr7uP4gl9pwfc7oDWUREOvyYgYiI5ICSgYiIKBmIiIiSgYiIoGQgIiIoGYiICEoGIiKCkoFIWmb2CzP7VtLy1Wb2vVa2Kzazx8zsufhz7nP6hE2RKOmmM5E0zGwssUcCfDK+/BKxRw/Ut9iuO3CQu78df7bOM0CZ6z+ZdAAd+nEUIvng7ivNbLCZHQYMAppaJoI4A+aY2UnAXmKPDD4E+Ff+ohUJR8lAJJh7iT1D51BiE4W05svEkkWlu39gZmuBA/ITnkh2lAxEglkA/BdQAnyyjW36AZviiaAaODxfwYlkS8lAJID4k1P7ABvc/c02NrsbeDA+Ofoq4B95C1AkSxpAFhERXVoqIiLqJhLJmJmVA3e1WL3T3ScUIh6RXFA3kYiIqJtIRESUDEREBCUDERFByUBERFAyEBER4P8DkWr4rDKxgOgAAAAASUVORK5CYII=\n",
      "text/plain": [
       "<Figure size 432x288 with 1 Axes>"
      ]
     },
     "metadata": {
      "needs_background": "light"
     },
     "output_type": "display_data"
    }
   ],
   "source": [
    "# 分析条件を固定\n",
    "df = df_summer.query(\"a_surf == 0.5 & C_1 == 50.5 & emissivity_2 == 0.5\")\n",
    "# グラフ描画\n",
    "setPltComparison(df=df, fig_title='summer', x_label='v_a', y_label='q_room_side',\n",
    "                 query_target='j_surf', query_data_list=j_surf_array,\n",
    "                xlim_min=min(v_a_array), xlim_max=max(v_a_array),\n",
    "                ylim_min=df_summer['q_room_side'].min(), ylim_max=df_summer['q_room_side'].max()\n",
    "                )"
   ]
  },
  {
   "cell_type": "markdown",
   "metadata": {},
   "source": [
    "#### 夏期条件：外気側部材の熱コンダクタンスによる影響の確認"
   ]
  },
  {
   "cell_type": "code",
   "execution_count": 15,
   "metadata": {},
   "outputs": [
    {
     "data": {
      "image/png": "iVBORw0KGgoAAAANSUhEUgAAAX8AAAEkCAYAAADHDTFTAAAABHNCSVQICAgIfAhkiAAAAAlwSFlzAAALEgAACxIB0t1+/AAAADh0RVh0U29mdHdhcmUAbWF0cGxvdGxpYiB2ZXJzaW9uMy4yLjIsIGh0dHA6Ly9tYXRwbG90bGliLm9yZy+WH4yJAAAgAElEQVR4nO3de3hU1b3/8fc3XJWAAgFFIEUMKoaUACIGqoJg1XqBais9v6MHKwrtsUfFo0Wrx2ptwT70aH1stfjDo3hpoUePBf1VxSIcrYmoCDUC3ooQAlYuAoIK4fL9/TGTMZCZZGaYnUxmf17PM8/OXnuvvdd3IN+sWbP32ubuiIhIuOQ1dwNERKTpKfmLiISQkr+ISAgp+YuIhJCSv4hICCn5i4iEkJK/iEgIKfmLiISQkr9IFjGz1s3dBgkHJX/JOWY21czWm9kOM3vPzEab2SNm9vM6+4w0s+o662vM7EYze9vMPjezh8zsKDN7Lnqcv5hZ5+i+fczMzez7ZrbOzLaa2Q/MbGi0/jYz+81BbbrCzFZF933BzL5WZ5ub2dVm9gHwQRO8RSJK/pJbzOwE4EfAUHfvCJwNrEmy+sXAWcDxwAXAc8BPgAIivyvXHLT/MKAfMB74NXALMAYoBi4xszOibRoXPc5FQDfgFeAPBx1rXPR4JyXZVpFDouQvuWYf0A44yczauPsad/97knXvc/dP3H09kQS9xN2Xuftu4Glg0EH73+nuu9x9AfA58Ad331infu3+k4Hp7r7K3fcC04DSur3/6PZP3f3LtKIWSZGSv+QUd/8QuA64HdhoZnPM7Jgkq39S5+cv46znp7n/14B7o8NB24BPAQN61tl/XZJtFMkIJX/JOe7+e3f/BpGk68AvifTMD6+z29FN2KR1wGR3P7LO6zB3L6+zj6bXlSal5C85xcxOMLMzzawdsItID3wfsBz4lpl1MbOjiXw6aCq/A242s+JoG48ws+824flF6lHyl1zTDrgL2Az8A+hO5MvWx4C/EfnydwEwt6ka5O5PE/n0McfMPgPeAc5tqvOLxGN6mIuISPio5y8iEkJK/iIiIaTkLyISQkr+IiIhpOQvIhJCSv4iIiGk5C8iEkJK/iIiIaTkLyISQkr+IiIhpOQvIhJCSv4iIiGk5C8iEkJK/iIiIaTkLyISQkr+IiIhpOQvIhJCrZu7AckqKCjwPn36pFzv008/pUuXLplvUJYKW7ygmMNCMadn6dKlm929W70N7t4iXkOGDPF0zJw5M616LVXY4nVXzGGhmNMDvOlxcqqGfUREQkjJX0QkhJT8RURCqMV84SsSVnv27KG6uppdu3bFykpLS1m1alUztqrpKeaGtW/fnl69etGmTZuk9lfyF8ly1dXVdOzYkT59+mBmAGzatIlu3epfwJHLFHNi7s6WLVuorq7m2GOPTerYGvYRyXK7du2ia9euscQvcjAzo2vXrgd8OmyMkr9IC6DEL41J9f+Ikr+ISAgp+YuIhJCSv4gkZfjw4YEcd/fu3YwZM4bS0lLmzp17wLalS5dSUlJCUVERP/nJT4jcsFrf9OnTKSoq4oQTTuCFF16Ilbdq1YrS0lI2bNjAvffey3XXXRfbNnnyZMaMGRNbv++++7jmmmsO2P7qq68mFcO6desYNWoU/fv3p7i4mHvvvTe27cYbb+Too4/mV7/6VVLHaiq62kdEklJeXp7xY+7du5dly5axZ88eli9fXm/7D3/4Qx588EFOPfVUxowZw/PPP8+55557wD4rV65kzpw5rFixgg0bNjBmzBjef/99WrVqxWGHHRY77vDhw3niiSdi9ZYvX87+/fvZt28frVq1ory8nHHjxsW2L1myhPvvvz+pOFq3bs1//ud/MnjwYHbs2MGQIUM466yzOOmkk5gxYwYdOnRI5+0JlHr+Ijmoqgrmzo0sMyU/Pz9u+ccff8zpp59OaWkpAwYM4JVXXqm3/5NPPsnll18OwOWXX87111/PqFGjuOqqq7j00ktZvnw5paWl/P3vfz/guJ999hllZWWYGZdccgl/+tOf6p1/3rx5fO9736Ndu3Yce+yxFBUV8frrr9fbb9CgQbz//vt8+eWXbN++ncMPP5zS0lIqKyuByB+32k83q1at4vjjj6dVq1aMHDmSKVOmcPrpp9O/f3/eeOMNLrroIvr168ett94KQI8ePRg8eDAAHTt2pH///qxfvz7Vt7hJqecvkmOqqqCkBPbvh7w8qKyEwsLgzvf73/+es88+m1tuuYV9+/bxxRdfNFrn/fff5y9/+QutWrVi8eLF/OpXv+LZZ58FIjc2LV++nPXr19OrV69YnWOOOYZnnnmm3rHWr1/PqaeeGlvv1atX3MTbunVrSktLeeONN/jyyy8ZNmwY/fr1o7y8nO7du+Pu9O7dG4DnnnuOc845J1a3bdu2vPzyy9x7772MHTuWpUuX0qVLF4477jimTJlC165dY/uuWbOGZcuWMWzYsCTeveaj5C+SYyoqIol/507Iz4+sB5n8hw4dyhVXXMGePXsYN24cpaWljdb57ne/S6tWreJuqx2miTe+H+9yxmT3AxgxYgTl5eV8+eWXlJWV0a9fP6ZNm0a3bt0O+E7jhRde4OGHH46tX3jhhQCUlJRQXFxMjx49AOjbty/r1q2LJf+dO3dy8cUX8+tf/5pOnTrFbUO20LCPSI4pK4v0+PPzI8uysmDPd/rpp/Pyyy/Ts2dPLrvsMh599FHgwAR88M1HyYyB9+rVi+rq6tj6hg0bOOaYY+Lut27duth6dXV13P0gMu5fXl5ORUUFZWVl9O/fn5UrV1JeXs6IESMA+OKLL9i2bdsBx2jXrh0AeXl5sZ9r1/fu3QtEpuG4+OKL+ed//mcuuuiiRuNrbkr+IjmmsDAy1DNrVvBDPgBr166le/fuXHXVVUycOJG33noLgKOOOopVq1axf/9+nn766ZSP26NHDzp27Mhrr72Gu/PHP/6RsWPH1tvvwgsvZM6cOezevZuPPvqIDz74gFNOOSXuMYcPH85rr73Gpk2b6N69O2ZGt27dmDdvXqznv2jRIkaNGpVSW92diRMn0r9/f66//vqUY20OSv4iOaiwEMaPz2ziTzSUsnjxYkpLSxk0aBBPPfUU1157LQB33XUX559/PmeeeWZsmCQZdYeNHnjgAa688kqKioro06dP7Eqf+fPnc9tttwFQXFzMJZdcwkknncQ555zDb3/724RDSp07d6Zbt24UFxfHysrKyti4cSMDBw4E6o/3J+PVV1/lscce46WXXqK0tJTS0lL+/Oc/p3SMJhfvCS/Z+NKTvJITtnjdcz/mlStX1ivbuHFjk7Zh8+bNXlhY2KTnPFg6MXfo0CHlOoMGDfKampqU6zXkpz/9qc+YMSPleqnGHO//CnqSl4ikY8OGDZSVlXHDDTc0d1NS1qlTp9hNXsl66623kp4WORk33ngjjz/+eNZd66+rfUSkQccccwzvv/8+lZWV9a7kadeuHUuWLGmmljUulaQflBkzZjBjxozmbkY9gSd/MzsSmAUMABy4AngPmAv0AdYAl7j71qDbIiLpKykpiXsXrrRMTTHscy/wvLufCAwEVgE3AQvdvR+wMLouIiJNJNDkb2adgNOBhwDcvcbdtwFjgdnR3WYD4+IfQUREghB0z78vsAl42MyWmdksM+sAHOXuHwNEl90DboeIiNRhnmCK1Iwc3Oxk4DVghLsvMbN7gc+Af3P3I+vst9XdO8epPwmYBNC1a9ch06ZNS7kNmzdvpqCgIN0QWpywxQu5H3NpaWm957Lu3buX1q3Ddb2GYm7cRx99VO97mcmTJy9195Pr7Rzv+s9MvYCjgTV11k8D/h+RL3x7RMt6AO81dixd55+csMXrnvsxZ8N1/u7uZWVlgRx3165dPnr0aB84cKDPmTPngG1nnHGGH3/88T5w4EAvLi72Tz75JFbnkksu8eOOO85POeUU/+ijj2J1HnnkES8qKvKioiJ/5JFHEp4zXv1FixZ5p06d/Nxzz3V393HjxvnTTz8dq3f88cf7nXfeGVu/6KKL/KmnnoqtDx482Hfv3p1U3AsWLPDBgwf7gAEDfPDgwb5w4cLYtpEjR3qHDh18wYIFSR2rVtZc5+/u/wDWmdkJ0aLRwEpgPjAhWjYBmBdkO0Tk0DXFfP7jx4+vt88TTzzB8uXLWbRoEd27R0aIH3roITp37syHH37IlClTmDp1KgCffvopd9xxB0uWLOH111/njjvuYOvW+hcSJqoPcNppp8Xuzq2dCwhgy5Yt5OfnU1FREdu3oqIiNi3EmjVr6NmzJ23btk0q9oKCAp555hkqKyuZPXs2l112WWzbokWLOPnk+p31TGqKq33+DXjCzN4GSoFpwF3AWWb2AXBWdF1EMqRqexVz35lL1fbMTejf1PP5N2TevHlMmBDpP37nO99h4cKFuDsvvPACZ511Fl26dKFz586cddZZPP/880nXP1jtLKAQ+eN3/vnns2nTJtydjz76iMMOO4yjjz4aOHBaiPz8fKZOncqQIUMYM2YMr7/+OiNHjqRv377Mnz8fiDxfoHbyuOLiYnbt2sXu3buTij8TAh9Ac/flQLw/YaODPrdIGFVtr6Lk/hL2s5888qj810oKjwhudreg5vOv9f3vf59WrVpxzjnnMH36dMyM9evXx+beb926NUcccQRbtmw5oBwSz+2fqP7BhgwZwjvvvENNTQ3l5eWcccYZrF69mlWrVrFs2bLYTKAAzz//PPfccw8An3/+OSNHjuSXv/wl3/72t7n11lt58cUXWblyJRMmTIhNEV3rqaeeYtCgQQfMGBq0cH17IhICFesq2M9+dtbsJL9tPhXrKgJN/kHN5w+RIZ+ePXuyY8cOLrjgAh577DH+5V/+JeEc/onKD5bsfu3ataO4uJi33nqL1157jR//+MesXr2a8vJyli1bFhvyqampobq6mr59+wKRh7/UfgooKSmhXbt2tGnThpKSEtasWXPAOVasWMHUqVNZsGBB3PcjKJrbRyTHlPUuI4888tvmk0ceZb2DndA/qPn8AXr27AlEHo148cUXxx7PWHcO/71797J9+3a6dOmS9Nz+ierHM3z4cF5++WV27NhB586dOfXUUykvLz/gGQCvvPIK3/jGN2J12rRpE4u/7jMA6s7/X9u+b3/72zz66KMcd9xxSb0nmaLkL5JjCo8opPJfK5l1wazAh3wguPn89+7dy+bNm4HIg1IWLFjAgAEDgMgc/rNnR+4TffLJJznzzDMxM84++2wWLFjA1q1b2bp1KwsWLODss8+ud+xE9eMZMWIEM2fOjE35/PWvf53XXnuNqqqq2NTQ8R4s35ht27Zx3nnnMX369AOGj5qKhn1EclDhEYUZT/oNzec/Y8YM2rRpQ35+fqznXzuff+/evRkwYAA7d+5M6jy1Y/67d+/m7LPPZs+ePezbt48RI0Zw1VVXATBx4kQuu+wyioqK6NKlC3PmzAGgS5cu/Md//AdDhw4F4Lbbbov16G+77TZOPvlkLrzwwoT14xk+fDirV6/m5ptvBiLfEXTv3p3evXuTl5cXew9+9rOfJRVfrd/85jd8+OGH3Hnnndx5550ALFiwIHZFU+DiXf+ZjS9d55+csMXrnvsxZ8N1/i11Pv9ULVq0yM8777yU6qxbt87POeecjLfljDPOaLnX+YtIy9eS5/NPVdu2bXnnnXf41re+lXSdXr168dxzz2W0HaNGjWL16tWB3tGsYR8RaVBLns8/VcOHD693NU5zWLRoEQCbNm0K7BxK/iKSFM3nn1s07CMiEkJK/iIiIaTkLyISQkr+IiIhpOQvIkmpnccm03bv3s2YMWMoLS1l7ty5B2y75ZZb6N27d70ZRXfv3s348eMpKipi2LBhB1yhM3v2bPr160e/fv1id/FC5EEnw4YNo1+/fowfP56ampq47UlUv0+fPpSUlPDmm28yb948xo376umz06dPp6ioKLb+zDPPHDB52/Tp03niiSeSej+++OILzjvvPE488UROO+00brrpq0ec33PPPRQWFvKjH/0oqWM1RMlfRJLSHPP5X3DBBbH5fOpKZz7/qVOnMmXKFD744AM6d+7MQw89VO+4jT0PoHae/eHDh9eb179Tp05s3LgR4IB5fyBy5+43v/nNpN+XG264gXfffZeFCxfy6quvxu4jmDJlSsp3Eiei5C+Si6qqYO7cyDJDmmM+/1NPPZUePXrUO2eq8/m7Oy+99BLf+c53AJgwYQJ/+tOf6h032ecBdOvWjSOOOIIPP/wQiEwRffHFFx8w93/tJ6XPPvuMmpoaunXrxuWXX84Pf/hDRo0aRd++ffnf//1frrjiCvr37x97fw4//HBGjRoFRG46Gzx4MNXV1XHf+0Oh5C+Sa6qqoKQErrwysszgH4B4aufzX758OX/729+SmtK5dj7/hx9+mFmzZnHaaaexfPlyjjvuuKTqpzqf/5YtWzjyyCNjd8wmM89/Q/vBV0/5eu+99+jXr19sts+9e/fy9ttvx+YX+stf/sLo0V89vmTr1q289NJL3HPPPVxwwQVMmTKFFStWUFlZWe8+iu3bt/PMM88cUD9TlPxFck1FBezfDzt3RpZ1hieCMHToUB5++GFuv/12Kisr6dixY6N1kp3PPxFPcT7/ROXJHjee2qd8lZeXU1ZWximnnMKSJUtYtmwZJ5xwAu3btwfqz/h5wQUXYGaUlJRw1FFHUVJSQl5eHsXFxQd8d7F3714mT57MNddcE3tOQCYp+YvkmrIyyMuD/PzIsqzlzuefSKrz+RcUFLBt27bYXPrJzPPf0H7wVc+/Nvl37NiRXbt2sXjx4gPG+19//XVOOeWU2Hrduf3rPrnr4Ln+J02aRN++fbnuuutSem+SpeQvkmsKC6GyEmbNiiwLW+Z8/g1JdT5/M2PUqFE8+eSTQOSKnrFjx9Y7brLPAwA46aST2LBhA6+88gqDBg0CItNR/+53v4uN969YsYITTzwx4aecRG699Va2b9/Oz3/+85TqpULJXyQXFRbC+PEZTfwNzedfWlrKoEGDeOqpp7j22muBr+bzP/PMM+N+aZtI3TH/H//4x/Tq1YsvvviCgQMHcvvttwOR+fy3bNlCUVERd999N3fddRdw4Hz+Q4cOPWA+/1/+8pfcfffdFBUVsWXLFiZOnAjAm2++yZVXXtlo/Xjvx7BhwygoKKBNmzYAlJWVsXr16ljyr/tQ92RVV1fzi1/8gpUrVzJ69GhKS0uZNWtWSsdISrx5nrPxpfn8kxO2eN1zP2bN5x/R1DEf7Gtf+5pv2rQppTpjxozxDRs2pH3OeDE//PDDfvXVV8fdX/P5i0jGhGk+/4Z069aN0aNH8+abbyZd58UXX0zpU09j7rnnHqZPn06nTp0O+Via0llEGhSm+fwb8sYbbzR3E5gyZQpTpkzJyLGU/EVaAHdPOObeVDSff3bzOJepNkTDPiJZrn379mzZsiXlX24JD3dny5YtsXsLkhF4z9/M1gA7gH3AXnc/2cy6AHOBPsAa4BJ335roGCJh1qtXL6qrqw94pN+OHTvYvHlzM7aq6SnmhrVv355evXolfeymGvYZ5e51I7gJWOjud5nZTdH1qU3UFpEWpU2bNhx77LEHlD344INMmjSpmVrUPBRzZjXXsM9YoHau1NnAuAb2FRGRDLOgxxHN7CNgK+DATHd/0My2ufuRdfbZ6u6d49SdBEwC6Nq165Bp06alfP7NmzdTUFCQdvtbmrDFC4o5LBRzeiZPnrzU3U+utyHexf+ZfAHHRJfdgb8BpwPbDtpna2PH0U1eyQlbvO6KOSwUc3porpu83H1DdLkReBo4BfjEzHoARJcbg26HiIh8JdDkb2YdzKxj7c/AN4F3gPnAhOhuE4B5QbZDREQOFPTVPkcBT0dvTmkN/N7dnzezN4A/mtlEoAr4bsDtEBGROgJN/u6+GhgYp3wLkPlH04iISFJ0h6+ISAgp+YuIhJCSv4hICCn5i4iEkJK/iEgIKfmLiISQkr+ISAgp+YuIhJCSv4hICCn5i4iEkJK/iEgIKfmLiISQkr+ISAgp+YuIhJCSv4hICCn5i4iEUNLJ38yON7OFZvZOdP3rZnZrcE0TEZGgpNLz/7/AzcAeAHd/G/heEI0SEZFgpZL8D3f31w8q25vJxoiISNNIJflvNrPjAAcws+8AHwfSKhERCVQqD3C/GngQONHM1gMfAZcG0ioREQlU0snf3VcDY8ysA5Dn7juCa5aIiASp0eRvZtcnKAfA3e/OcJtERCRgyfT8O0aXJwBDgfnR9QuAl4NolIiIBKvR5O/udwCY2QJgcO1wj5ndDvx3Micxs1bAm8B6dz/fzLoAc4E+wBrgEnffmkb7RUQkDalc7VMI1NRZryGSvJNxLbCqzvpNwEJ37wcsjK6LiEgTSSX5Pwa8bma3m9lPgSXAo41VMrNewHnArDrFY4HZ0Z9nA+NSaIeIiBwic/fkdzYbDJwWXX3Z3ZclUedJYDqR7w5uiA77bHP3I+vss9XdO8epOwmYBNC1a9ch06ZNS7qttTZv3kxBQUHK9VqqsMULijksFHN6Jk+evNTdT663wd0bfAGdossu8V6N1D0fuD/680jg2ejP2w7ab2tj7RgyZIinY+bMmWnVa6nCFq+7Yg4LxZwe4E2Pk1OTudrn99EkvpTo3b1RFl3v20DdEcCFZvYtoD3QycweBz4xsx7u/rGZ9QA2JtEOERHJkEbH/N39/OjyWHfvW+d1rLs3lPhx95vdvZe79yEyCdxL7n4pkctFJ0R3mwDMO6QoREQkJalM6TwiencvZnapmd1tZoVpnvcu4Cwz+wA4K7ouIiJNJJWrfR4AvjCzgcCPgbVErgBKirsvrvMpYou7j3b3ftHlpym1WkREDkkqyX9v9MuDscC97n4vX939KyIiLUgqs3ruMLObiczkeXr0rt02wTRLRESClErPfzywG5jo7v8AegIzAmmViIgEKpUpnf8B3F1nvYo6d/iaWYW7l2W2eSIiEoRUev6NaZ/BY4mISIAymfyTnydCRESaVSaTv4iItBCZTP6WwWOJiEiAUrnUEwAz61S3Xp0btC7LVKNERCRYSSd/M5sM/Az4kq/G92MTu7n7OxlvnYiIBCKVnv8NQLG7bw6qMSIi0jRSGfP/O/BFUA0REZGmk0rP/2ag3MyWELnTFwB3vybjrRIRkUClkvxnAi8BlcD+YJojIiJNIZXkv9fdrw+sJSIi0mRSGfNfZGaTzKyHmXWpfQXWMhERCUwqPf//E13eXKessWf4iohIFkplVs9jg2yIiIg0nVRu8moD/BA4PVq0GJjp7nsCaJeIiAQolWGfB4g8uev+6Ppl0bIrM90oEREJVirJf6i7D6yz/pKZ/S3TDRIRkeClcrXPPjM7rnbFzPoC+zLfJBERCVoqPf8biVzuuZrI9M1fA74fSKtERCRQqVzts9DM+gEnEEn+77r77kaqiYhIFkr1ap/J1Lnax8wavNrHzNoDLwPtoud60t1/Gr05bC7QB1gDXOLuW9OKQEREUpbKmP8DwBAiV/vcH/35gUbq7AbOjH5RXAqcY2anAjcBC929H7Awui4iIk0k0Kt93N2BndHVNtGXA2OBkdHy2UTuGZiaQltEROQQBH61j5m1MrPlwEbgRXdfAhzl7h8DRJfdU2u2iIgcCot0zpPY0exM4BHggKt93H1RkvWPBJ4G/g34q7sfWWfbVnfvHKfOJGASQNeuXYdMmzYtqbbWtXnzZgoKClKu11KFLV5QzGGhmNMzefLkpe5+cr0N7t7oC2gFTCHyxe3XgYFAu2TqHnScnxJ5HOR7QI9oWQ/gvcbqDhkyxNMxc+bMtOq1VGGL110xh4ViTg/wpsfJqUkN+7j7PuBCd9/t7m+7+988ics8zaxbtMePmR0GjAHeBeYDE6K7TQDmJdMOERHJjFS+8C03s98QuUTz89pCd3+rgTo9gNlm1orI9wt/dPdnzawC+KOZTQSqgO+m3nQREUlXKsl/eHT5szplDpyZqIK7vw0MilO+BRidwrlFRCSDUrnDd1RD281sgrvPPvQmiYhI0FK51LMx12bwWCIiEqBMJn/L4LFERCRAmUz+yd0wICIizU49fxGREEplVs/rG9nl1UNsi4iINJFULvU8GRhK5AYtgAuITNe8DsDdf5TZpomISFBSSf4FwGB33wFgZrcD/+3ueoC7iEgLk8qYfyFQU2e9hsjDWEREJAg1NTB3LlRVZfzQqST/x4DXzex2M/spsITIXPwi0pJVVcVPMNlWno1tCrK8qgpWrIArr4SSkoz/AUjlDt9fmNlzwGnRou+7+7KMtkYkW1VVQUUFlJVBYWHmy5viHPHKq6oiiWX/fsjLg8rKyLZsK4dILzib2hR0eUVFJO6dOyE/P7J+8P+ZQ5DKmH/tJG4NTeQmEqxcTJDpnCNTibCiIlJ2cILJtnKAzz/PrjYFXV5WBosXR8ry8iLrGZTJ6/wl7IL+GF+bwA7+GFybCA8uT7R/quV1fzn37/+qR5ap8nTq1E2Eh3LusrJIYjk4wWRbOUCHDtnVpqDLCwuhuBhmzTqwo5AhKfX8JWSC7B2nUydRDynoHmFTJLZU62QqERYWRt7fg/89s60coG3b7GpTU8U8fjyBiPeEl2x86UleyWkw3rVr3efMiSwbK1+71r1TJ/f8/Miydlui8jlzImUQWc6Z03B5OnUSnHvmffel1tZUy1N979IpT7HOzJkzM3vuFiBsv8vuwT7JSz3/XJSJnnnQveOGtqXaSw26R1i7Ld7H7kyVN8U5Gjq3hI6Sf0sWL8kn+iIw6GSebkLNtiSsBCkhoeTfEqTSk080/t1UyTzo3q6IZISSfzZJJckn6rEn+iKwqZK5iLQISv7NIRNJPlGPPdH4NyiZi0iMkn9Ty1SST6fHLiISpeQfpHg9fCV5EckCSv5BSdTDV5IXkSyg5H+oEt0Fm6iHryQvIllAyf9QNDR1QUM3NynJi0gzywvy4GbW28wWmdkqM1thZtdGy7uY2Ytm9kF02TnIdgSmoYm6anv4AU3KJCJyKAJN/sBe4N/dvT9wKnC1mZ0E3AQsdPd+wMLoenaLN8tkQ6+qlMQAAAtKSURBVL17iCT88eOV+EUk6wQ67OPuHwMfR3/eYWargJ7AWGBkdLfZwGJgapBtOSSJhncaGr8XEcliFpn0rQlOZNYHeBkYAFS5+5F1tm1193pDP2Y2CZgE0LVr1yHTpk1L+bybN2+moKAgzVZHbd0Ka9Z8lfz79IHO2TlSlZF4WxjFHA6KOT2TJ09e6u4n19sQb6rPTL+AfGApcFF0fdtB27c2doxmndK5oal+s4ymvQ0HxRwOQU7pHPSYP2bWBngKeMLd/yda/ImZ9Yhu7wFsDLodSYs3tq8vb0UkxwR9tY8BDwGr3P3uOpvmAxOiP08A5gXZjqQleowf6MtbaTGqtlcx9525VG2vyqnybGxT0OU1+2oSvheHKujr/EcAlwGVZrY8WvYT4C7gj2Y2EagCvhtwO5LT0MOjJStUba+iYl0FZb3LKDyiMGfKM3Wsqu1VlNxfwn72k0celf9aSeERhS2+HCKJMJva1BTlKzat4PFnHq/3XmRC0Ff7/BWwBJtHB3nutDR26WbIZFvCS/RL0tKTQkOxpRpzxboK9rOfnTU7yW+bT8W6ipwoB/i85vOsalNTlANx34tM0B2+deXIpZstoQeZzjkS/ZK09KQApFwnUcxlvcvII4/8tvnkkUdZ70gHpqWXA3Ro24G8L7KnTU1RvpjFcd+LTFDyP1gWTr2QStLOVC84GxNeol+Slp4U0qmTKObCIwqp/NfKev8vWno5QNtWbbOqTU1RXtytmFmnzYr7qflQKfk3gyB74JnqBWdjwkv0S9LSk0I6dRLFXFsnXqJo6eXZ2Kagy9u2asv4AePrlWeCkn+AMpHMU03ameoFZ2PCq92WTb+c2ZjYRJIR3uSfaCrmTB0+Q8k81aSdqV5w7bZsS3gikhnhTP4NTcWc6qESDOFkKpk3Z9IWkdwVzuSfxvX8qQzhQPMmcxGRxoQz+ad4PX+qQzigZC4i2S2cyT/F6/lTHcKJnUbJXESyVDiTPyS8nj/e8E6qQzgiItkuvMk/jkTDO+kM4YiIZDMl/zoaG8NXkheRXBH4fP7ZKt4Uqo2N4YuI5IpQ9vzTGd4REckloUz+Gt4RkbAL5bCPhndEJOxC2fPX8I6IhF3uJ/+amsgD2Q+6mUvDOyISZrmd/KuqYMUKePzxQ57ATUQkl+T2mH9F5BmY7NzJ/v37vlqXQFRVRT5kVVUlV55OnVwtz8Y2ZVt5NrYp6PLagYt478Uhc/cW8RoyZIinqrqy3O+fPMk/a4tvb4dXV5anfIxaa9e6z5kTWSZTnk6dTJTPnDmzWc67dq17p07u+fmRZe22ROXp1ElUft99MzNynOYqD2PM6bxHYYt57Vr3H/xgZtz3IhXAmx4np+Z0z/+vVPFu9zyuvBCGXXs4f+WrP5+p/AWunf7/yisjy9pticrTqZOp8pqa5jlv3Vmy9+//6kNWovJ06iQq//zzzBynucrDGHM671HYYq4zcFHvvciEnE7+Zb3LqGkN80vyqT6ideySzpaU2FpKUkg0S3ZDs2enWidReYcOmTlOc5WHMeZ03qOwxVy7THLm+dTF+ziQja90hn3WrnX/wdX3ebshczy/59rYx6Y5cyIfsSCynDOn4fLmHNJoKcMBtduaY2isuYa6MlkexphTLQ9jzPfdNzPh/5dkkWDYJ9CEDfwXsBF4p05ZF+BF4IPosnMyx0on+c+ZExkzy1Qy15h/4zE3h5kzZzZ3E5qcYg6HTMScKPkHfannI8BvgEfrlN0ELHT3u8zspuj61CBOXlYGixfX/9iU6FkuDT3jJcH0/wnL06nT0stFpOUINPm7+8tm1ueg4rHAyOjPs4HFBJT8CwuhuBhmzcpMMhcRyRXNcZPXUe7+MYC7f2xm3YM8Wdu2MH58kGcQEWl5LDIkFOAJIj3/Z919QHR9m7sfWWf7VnfvnKDuJGASQNeuXYdMmzYt5fNv3ryZgoKCNFreMoUtXlDMYaGY0zN58uSl7n5yvQ3xvgjI5Avow4Ff+L4H9Ij+3AN4L5njpPOFr3v4viQKW7zuijksFHN6yKKbvOYDE6I/TwDmNUMbRERCLdDkb2Z/ACqAE8ys2swmAncBZ5nZB8BZ0XUREWlCQV/t808JNo0O8rwiItKwnJ7eQURE4lPyFxEJISV/EZEQUvIXEQkhJX8RkRBS8hcRCSElfxGREFLyFxEJISV/EZEQUvIXEQkhJX8RkRBS8hcRCSElfxGREFLyFxEJISV/EZEQUvIXEQkhJX8RkRBS8hcRCSElfxGREFLyFxEJIXP35m5DUsxsE7A2jaoFwOYMNyebhS1eUMxhoZjT8zV373ZwYYtJ/ukyszfd/eTmbkdTCVu8oJjDQjFnloZ9RERCSMlfRCSEwpD8H2zuBjSxsMULijksFHMG5fyYv4iI1BeGnr+IiBwkZ5O/mZ1jZu+Z2YdmdlNztycIZtbbzBaZ2SozW2Fm10bLu5jZi2b2QXTZubnbmklm1srMlpnZs9H1nI4XwMyONLMnzezd6L93WS7HbWZTov+n3zGzP5hZ+1yL18z+y8w2mtk7dcoSxmhmN0fz2Xtmdvahnj8nk7+ZtQJ+C5wLnAT8k5md1LytCsRe4N/dvT9wKnB1NM6bgIXu3g9YGF3PJdcCq+qs53q8APcCz7v7icBAIvHnZNxm1hO4BjjZ3QcArYDvkXvxPgKcc1BZ3Bijv9ffA4qjde6P5rm05WTyB04BPnT31e5eA8wBxjZzmzLO3T9297eiP+8gkhB6Eol1dnS32cC45mlh5plZL+A8YFad4pyNF8DMOgGnAw8BuHuNu28jt+NuDRxmZq2Bw4EN5Fi87v4y8OlBxYliHAvMcffd7v4R8CGRPJe2XE3+PYF1ddaro2U5y8z6AIOAJcBR7v4xRP5AAN2br2UZ92vgx8D+OmW5HC9AX2AT8HB0uGuWmXUgR+N29/XAr4Aq4GNgu7svIEfjPUiiGDOe03I1+Vucspy9rMnM8oGngOvc/bPmbk9QzOx8YKO7L23utjSx1sBg4AF3HwR8Tssf8kgoOs49FjgWOAboYGaXNm+rml3Gc1quJv9qoHed9V5EPjbmHDNrQyTxP+Hu/xMt/sTMekS39wA2Nlf7MmwEcKGZrSEylHemmT1O7sZbqxqodvcl0fUnifwxyNW4xwAfufsmd98D/A8wnNyNt65EMWY8p+Vq8n8D6Gdmx5pZWyJflMxv5jZlnJkZkXHgVe5+d51N84EJ0Z8nAPOaum1BcPeb3b2Xu/ch8m/6krtfSo7GW8vd/wGsM7MTokWjgZXkbtxVwKlmdnj0//hoIt9n5Wq8dSWKcT7wPTNrZ2bHAv2A1w/pTO6eky/gW8D7wN+BW5q7PQHF+A0iH/3eBpZHX98CuhK5UuCD6LJLc7c1gNhHAs9Gfw5DvKXAm9F/6z8BnXM5buAO4F3gHeAxoF2uxQv8gch3GnuI9OwnNhQjcEs0n70HnHuo59cdviIiIZSrwz4iItIAJX8RkRBS8hcRCSElfxGREFLyFxEJISV/EZEQUvIXSYKZHW1mc8zs72a20sz+bGbHJ9j3eTPbVjvltEg2UvIXaUT0LtOngcXufpy7nwT8BDgqQZUZwGVN1T6RdLRu7gaItACjgD3u/rvaAndfnmhnd19oZiObomEi6VLPX6RxA4CwzSQqOU7JX0QkhJT8RRq3AhjS3I0QySQlf5HGvQS0M7OragvMbKiZndGMbRI5JJrVUyQJZnYMkUdIDgF2AWuIPDntgzj7vgKcCOQDW4CJ7v5C07VWpHFK/iIiIaRhHxGRENJ1/iJpMLMSIk+Yqmu3uw9rjvaIpErDPiIiIaRhHxGREFLyFxEJISV/EZEQUvIXEQkhJX8RkRD6/zUWaY8P607AAAAAAElFTkSuQmCC\n",
      "text/plain": [
       "<Figure size 432x288 with 1 Axes>"
      ]
     },
     "metadata": {
      "needs_background": "light"
     },
     "output_type": "display_data"
    }
   ],
   "source": [
    "# 分析条件を固定\n",
    "df = df_summer.query(\"a_surf == 0.5 & v_a == 0.5 & emissivity_2 == 0.5\")\n",
    "# グラフ描画\n",
    "setPltComparison(df=df, fig_title='summer', x_label='C_1', y_label='q_room_side',\n",
    "                 query_target='j_surf', query_data_list=j_surf_array,\n",
    "                xlim_min=min(v_a_array), xlim_max=max(v_a_array),\n",
    "                ylim_min=df_summer['q_room_side'].min(), ylim_max=df_summer['q_room_side'].max()\n",
    "                )"
   ]
  },
  {
   "cell_type": "code",
   "execution_count": null,
   "metadata": {},
   "outputs": [],
   "source": []
  }
 ],
 "metadata": {
  "kernelspec": {
   "display_name": "Python 3",
   "language": "python",
   "name": "python3"
  },
  "language_info": {
   "codemirror_mode": {
    "name": "ipython",
    "version": 3
   },
   "file_extension": ".py",
   "mimetype": "text/x-python",
   "name": "python",
   "nbconvert_exporter": "python",
   "pygments_lexer": "ipython3",
   "version": "3.8.3"
  }
 },
 "nbformat": 4,
 "nbformat_minor": 4
}
