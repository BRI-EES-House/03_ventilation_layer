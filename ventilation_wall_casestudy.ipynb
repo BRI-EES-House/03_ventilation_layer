{
 "cells": [
  {
   "cell_type": "code",
   "execution_count": 1,
   "metadata": {},
   "outputs": [],
   "source": [
    "import itertools\n",
    "import numpy as np\n",
    "import pandas as pd\n",
    "from matplotlib import pyplot as plt\n",
    "import ventilation_wall as vw\n",
    "import ventilation_wall_simplified as vws\n",
    "import envelope_performance_factors\n",
    "import global_number"
   ]
  },
  {
   "cell_type": "markdown",
   "metadata": {},
   "source": [
    "# 通気層を有する壁体等の熱的性能のケーススタディ"
   ]
  },
  {
   "cell_type": "markdown",
   "metadata": {},
   "source": [
    "## 検討用パラメータを設定\n",
    "\n",
    "### 分析用パラメータのリストを作成"
   ]
  },
  {
   "cell_type": "code",
   "execution_count": 2,
   "metadata": {},
   "outputs": [
    {
     "data": {
      "text/plain": [
       "array([0.  , 0.05, 0.1 , 0.15, 0.2 , 0.25, 0.3 , 0.35, 0.4 , 0.45, 0.5 ,\n",
       "       0.55, 0.6 , 0.65, 0.7 , 0.75, 0.8 , 0.85, 0.9 , 0.95, 1.  , 1.05,\n",
       "       1.1 , 1.15, 1.2 , 1.25, 1.3 , 1.35, 1.4 , 1.45, 1.5 , 1.55, 1.6 ,\n",
       "       1.65, 1.7 , 1.75, 1.8 , 1.85, 1.9 , 1.95])"
      ]
     },
     "execution_count": 2,
     "metadata": {},
     "output_type": "execute_result"
    }
   ],
   "source": [
    "# 通気層の平均風速, m/s\n",
    "v_a_array = np.arange(0.0, 2.0, 0.05)\n",
    "v_a_array"
   ]
  },
  {
   "cell_type": "code",
   "execution_count": 3,
   "metadata": {},
   "outputs": [
    {
     "data": {
      "text/plain": [
       "array([   0.,  500., 1000.])"
      ]
     },
     "execution_count": 3,
     "metadata": {},
     "output_type": "execute_result"
    }
   ],
   "source": [
    "# 外気側表面に入射する日射量, W/m2\n",
    "j_surf_array = np.array([0.0, 500.0, 1000.0])\n",
    "j_surf_array"
   ]
  },
  {
   "cell_type": "code",
   "execution_count": 4,
   "metadata": {},
   "outputs": [
    {
     "data": {
      "text/plain": [
       "array([0. , 0.5, 1. ])"
      ]
     },
     "execution_count": 4,
     "metadata": {},
     "output_type": "execute_result"
    }
   ],
   "source": [
    "# 外気側表面日射吸収率\n",
    "a_surf_array = np.array([0.0, 0.5, 1.0])\n",
    "a_surf_array"
   ]
  },
  {
   "cell_type": "code",
   "execution_count": 5,
   "metadata": {},
   "outputs": [
    {
     "data": {
      "text/plain": [
       "array([  0.25,   2.25,   4.25,   6.25,   8.25,  10.25,  12.25,  14.25,\n",
       "        16.25,  18.25,  20.25,  22.25,  24.25,  26.25,  28.25,  30.25,\n",
       "        32.25,  34.25,  36.25,  38.25,  40.25,  42.25,  44.25,  46.25,\n",
       "        48.25,  50.25,  52.25,  54.25,  56.25,  58.25,  60.25,  62.25,\n",
       "        64.25,  66.25,  68.25,  70.25,  72.25,  74.25,  76.25,  78.25,\n",
       "        80.25,  82.25,  84.25,  86.25,  88.25,  90.25,  92.25,  94.25,\n",
       "        96.25,  98.25, 100.25])"
      ]
     },
     "execution_count": 5,
     "metadata": {},
     "output_type": "execute_result"
    }
   ],
   "source": [
    "# 外気側部材の熱コンダクタンス,W/(m2・K)\n",
    "C_1_array = np.arange(0.25, 101.0, 2.0)\n",
    "C_1_array"
   ]
  },
  {
   "cell_type": "code",
   "execution_count": 6,
   "metadata": {},
   "outputs": [
    {
     "data": {
      "text/plain": [
       "array([0.05, 0.1 , 0.15, 0.2 , 0.25, 0.3 , 0.35, 0.4 , 0.45, 0.5 , 0.55,\n",
       "       0.6 , 0.65, 0.7 , 0.75, 0.8 , 0.85, 0.9 , 0.95, 1.  ])"
      ]
     },
     "execution_count": 6,
     "metadata": {},
     "output_type": "execute_result"
    }
   ],
   "source": [
    "# 通気層に面する面2の放射率\n",
    "#emissivity_2_array = np.array([0.1, 0.5, 0.9])\n",
    "emissivity_2_array = np.arange(0.05, 1.05, 0.05)\n",
    "emissivity_2_array"
   ]
  },
  {
   "cell_type": "markdown",
   "metadata": {},
   "source": [
    "## 分析用の関数を定義\n",
    "### パラメータリストを作成する関数"
   ]
  },
  {
   "cell_type": "code",
   "execution_count": 7,
   "metadata": {},
   "outputs": [],
   "source": [
    "def getParameterList(arg_theta_e: float, arg_theta_r: float,\n",
    "                     v_a_array: np.array, j_surf_array: np.array, a_surf_array: np.array,\n",
    "                    C_1_array: np.array, emissivity_2_array: np.array) -> pd.DataFrame:\n",
    "    \n",
    "    # 風速、日射量、日射吸収率の直積を作成し、DataFrameに変換\n",
    "    parameter_list = list(itertools.product(v_a_array, j_surf_array, a_surf_array, C_1_array, emissivity_2_array))\n",
    "    df = pd.DataFrame(parameter_list, columns=['v_a', 'j_surf', 'a_surf', 'C_1', 'emissivity_2'])\n",
    "    \n",
    "    # その他のパラメータの値を設定\n",
    "    df['theta_e'] = arg_theta_e\n",
    "    df['theta_r'] = arg_theta_r\n",
    "    df['C_2'] = 2.55\n",
    "    df['l_h'] = 7.5\n",
    "    df['l_w'] = 5.025\n",
    "    df['l_d'] = 0.175\n",
    "    df['angle'] = 45.0\n",
    "    df['l_s'] = 0.45\n",
    "    df['emissivity_1'] = 0.9\n",
    "\n",
    "    return df\n"
   ]
  },
  {
   "cell_type": "markdown",
   "metadata": {},
   "source": [
    "### 簡易計算法案No.3による計算結果を保有するDataFrameを作成する関数"
   ]
  },
  {
   "cell_type": "code",
   "execution_count": 8,
   "metadata": {},
   "outputs": [],
   "source": [
    "def get_wall_status_data_by_simplified_calculation_no_03(df: pd.DataFrame) -> pd.DataFrame:\n",
    "\n",
    "    # 固定値の設定\n",
    "    h_out = global_number.get_h_out()\n",
    "\n",
    "    # 計算結果格納用配列を用意\n",
    "    u_dash = []\n",
    "    eta_dash = []\n",
    "    q_room_side = []\n",
    "\n",
    "    for row in df.itertuples():\n",
    "        # パラメータを設定\n",
    "        parms = (vw.Parameters(theta_e=row.theta_e, theta_r=row.theta_r, J_surf=row.j_surf, a_surf=row.a_surf,\n",
    "                               C_1=row.C_1, C_2=row.C_2, l_h=row.l_h, l_w=row.l_w, l_d=row.l_d, angle=row.angle,\n",
    "                               v_a=row.v_a, l_s=row.l_s, emissivity_1=row.emissivity_1, emissivity_2=row.emissivity_2\n",
    "                              )\n",
    "                )\n",
    "\n",
    "        # 対流熱伝達率、放射熱伝達率、修正熱貫流率、修正日射熱取得率、室内側表面熱流を計算\n",
    "        h_cv_buf, h_rv_buf, u_dash_buf, eta_dash_buf, q_room_side_buf = vws.get_vent_wall_performance_factor_by_simplified_calculation_no_03(parm=parms, h_out=h_out)\n",
    "\n",
    "        # 配列に格納\n",
    "        u_dash.append(u_dash_buf)\n",
    "        eta_dash.append(eta_dash_buf)\n",
    "        q_room_side.append(q_room_side_buf)\n",
    "\n",
    "    # 計算結果をDataFrameに追加\n",
    "    df['u_dash'] = u_dash\n",
    "    df['eta_dash'] = eta_dash\n",
    "    df['q_room_side'] = q_room_side\n",
    "\n",
    "    return df\n"
   ]
  },
  {
   "cell_type": "markdown",
   "metadata": {},
   "source": [
    "### 散布図を作成する関数（凡例あり）"
   ]
  },
  {
   "cell_type": "code",
   "execution_count": 9,
   "metadata": {},
   "outputs": [],
   "source": [
    "def setPltComparison(df: pd.DataFrame, fig_title:str, x_label:str, y_label:str,\n",
    "                     x_data_name: str, y_data_name: str,\n",
    "                     query_label:str, query_data_name: str, query_data_list: np.array,\n",
    "                     xlim_min:float, xlim_max:float, ylim_min:float, ylim_max:float):\n",
    "    \n",
    "    # グラフを表示する領域（figureオブジェクト）、グラフを描画する領域（Axesオブジェクト）を作成\n",
    "    # グラフサイズを指定する　デフォルト：figsize=(6.4, 4.8)、小サイズ：figsize=(4.0, 3.5)\n",
    "    fig, ax = plt.subplots(figsize=(6.4, 4.8))\n",
    "    \n",
    "    # フォントサイズを設定\n",
    "    plt.rcParams[\"font.size\"] = 14\n",
    "    \n",
    "    # グラフタイトルを設定\n",
    "    fig.suptitle(fig_title)\n",
    "        \n",
    "    # 補助軸の設定\n",
    "    ax.grid(which='major', color='gray', linestyle='-')\n",
    "    ax.grid(which='minor', color='gray', linestyle='-')\n",
    "        \n",
    "    # 軸ラベルの設定\n",
    "    ax.set_xlabel(x_label)\n",
    "    ax.set_ylabel(y_label)\n",
    "    \n",
    "    # プロットの色を設定\n",
    "    colors =['b', 'g', 'r']\n",
    "    \n",
    "    # 散布図の描画設定\n",
    "    for i, data in enumerate(query_data_list):\n",
    "        x = df.query(query_data_name + ' == ' + str(query_data_list[i]))[x_data_name]\n",
    "        y = df.query(query_data_name + ' == ' + str(query_data_list[i]))[y_data_name]\n",
    "        label = query_label + ':' + str(query_data_list[i])\n",
    "        ax.scatter(x, y, color=colors[i], label= label, s=30, marker=\".\")\n",
    "        \n",
    "    # 軸の描画範囲設定\n",
    "    ax.set_xlim(xlim_min, xlim_max)\n",
    "    ax.set_ylim(ylim_min, ylim_max)\n",
    "    \n",
    "    # グラフ描画\n",
    "    plt.legend()\n",
    "    plt.show()\n",
    "    "
   ]
  },
  {
   "cell_type": "markdown",
   "metadata": {},
   "source": [
    "### 散布図を作成する関数（凡例なし）"
   ]
  },
  {
   "cell_type": "code",
   "execution_count": 10,
   "metadata": {},
   "outputs": [],
   "source": [
    "def setPltComparison_NoLegend(df: pd.DataFrame, fig_title:str, x_label:str, y_label:str,\n",
    "                     x_data_name: str, y_data_name: str,\n",
    "                     xlim_min:float, xlim_max:float, ylim_min:float, ylim_max:float):\n",
    "    \n",
    "    # グラフを表示する領域（figureオブジェクト）、グラフを描画する領域（Axesオブジェクト）を作成\n",
    "    # グラフサイズを指定する　デフォルト：figsize=(6.4, 4.8)、小サイズ：figsize=(4.0, 3.5)\n",
    "    fig, ax = plt.subplots(figsize=(3.5, 3.2))\n",
    "    \n",
    "    # フォントサイズを設定\n",
    "    plt.rcParams[\"font.size\"] = 14\n",
    "    \n",
    "    # グラフタイトルを設定\n",
    "    fig.suptitle(fig_title)\n",
    "        \n",
    "    # 補助軸の設定\n",
    "    ax.grid(which='major', color='gray', linestyle='-')\n",
    "    ax.grid(which='minor', color='gray', linestyle='-')\n",
    "        \n",
    "    # 軸ラベルの設定\n",
    "    ax.set_xlabel(x_label)\n",
    "    ax.set_ylabel(y_label)\n",
    "    \n",
    "    # 散布図の描画設定\n",
    "    x = df[x_data_name]\n",
    "    y = df[y_data_name]\n",
    "    ax.scatter(x, y, color='b', s=30, marker=\".\")\n",
    "        \n",
    "    # 軸の描画範囲設定\n",
    "    ax.set_xlim(xlim_min, xlim_max)\n",
    "    ax.set_ylim(ylim_min, ylim_max)\n",
    "    \n",
    "    # グラフ描画\n",
    "    plt.show()\n",
    "    "
   ]
  },
  {
   "cell_type": "markdown",
   "metadata": {},
   "source": [
    "## グラフの描画\n",
    "### 冬期条件のDataFrameを作成"
   ]
  },
  {
   "cell_type": "code",
   "execution_count": 11,
   "metadata": {},
   "outputs": [
    {
     "data": {
      "text/html": [
       "<div>\n",
       "<style scoped>\n",
       "    .dataframe tbody tr th:only-of-type {\n",
       "        vertical-align: middle;\n",
       "    }\n",
       "\n",
       "    .dataframe tbody tr th {\n",
       "        vertical-align: top;\n",
       "    }\n",
       "\n",
       "    .dataframe thead th {\n",
       "        text-align: right;\n",
       "    }\n",
       "</style>\n",
       "<table border=\"1\" class=\"dataframe\">\n",
       "  <thead>\n",
       "    <tr style=\"text-align: right;\">\n",
       "      <th></th>\n",
       "      <th>v_a</th>\n",
       "      <th>j_surf</th>\n",
       "      <th>a_surf</th>\n",
       "      <th>C_1</th>\n",
       "      <th>emissivity_2</th>\n",
       "      <th>theta_e</th>\n",
       "      <th>theta_r</th>\n",
       "      <th>C_2</th>\n",
       "      <th>l_h</th>\n",
       "      <th>l_w</th>\n",
       "      <th>l_d</th>\n",
       "      <th>angle</th>\n",
       "      <th>l_s</th>\n",
       "      <th>emissivity_1</th>\n",
       "      <th>u_dash</th>\n",
       "      <th>eta_dash</th>\n",
       "      <th>q_room_side</th>\n",
       "    </tr>\n",
       "  </thead>\n",
       "  <tbody>\n",
       "    <tr>\n",
       "      <th>0</th>\n",
       "      <td>0.00</td>\n",
       "      <td>0.0</td>\n",
       "      <td>0.0</td>\n",
       "      <td>0.25</td>\n",
       "      <td>0.05</td>\n",
       "      <td>-10.0</td>\n",
       "      <td>20.0</td>\n",
       "      <td>2.55</td>\n",
       "      <td>7.5</td>\n",
       "      <td>5.025</td>\n",
       "      <td>0.175</td>\n",
       "      <td>45.0</td>\n",
       "      <td>0.45</td>\n",
       "      <td>0.9</td>\n",
       "      <td>0.190245</td>\n",
       "      <td>0.000000</td>\n",
       "      <td>-5.707350</td>\n",
       "    </tr>\n",
       "    <tr>\n",
       "      <th>1</th>\n",
       "      <td>0.00</td>\n",
       "      <td>0.0</td>\n",
       "      <td>0.0</td>\n",
       "      <td>0.25</td>\n",
       "      <td>0.10</td>\n",
       "      <td>-10.0</td>\n",
       "      <td>20.0</td>\n",
       "      <td>2.55</td>\n",
       "      <td>7.5</td>\n",
       "      <td>5.025</td>\n",
       "      <td>0.175</td>\n",
       "      <td>45.0</td>\n",
       "      <td>0.45</td>\n",
       "      <td>0.9</td>\n",
       "      <td>0.194212</td>\n",
       "      <td>0.000000</td>\n",
       "      <td>-5.826354</td>\n",
       "    </tr>\n",
       "    <tr>\n",
       "      <th>2</th>\n",
       "      <td>0.00</td>\n",
       "      <td>0.0</td>\n",
       "      <td>0.0</td>\n",
       "      <td>0.25</td>\n",
       "      <td>0.15</td>\n",
       "      <td>-10.0</td>\n",
       "      <td>20.0</td>\n",
       "      <td>2.55</td>\n",
       "      <td>7.5</td>\n",
       "      <td>5.025</td>\n",
       "      <td>0.175</td>\n",
       "      <td>45.0</td>\n",
       "      <td>0.45</td>\n",
       "      <td>0.9</td>\n",
       "      <td>0.197219</td>\n",
       "      <td>0.000000</td>\n",
       "      <td>-5.916568</td>\n",
       "    </tr>\n",
       "    <tr>\n",
       "      <th>3</th>\n",
       "      <td>0.00</td>\n",
       "      <td>0.0</td>\n",
       "      <td>0.0</td>\n",
       "      <td>0.25</td>\n",
       "      <td>0.20</td>\n",
       "      <td>-10.0</td>\n",
       "      <td>20.0</td>\n",
       "      <td>2.55</td>\n",
       "      <td>7.5</td>\n",
       "      <td>5.025</td>\n",
       "      <td>0.175</td>\n",
       "      <td>45.0</td>\n",
       "      <td>0.45</td>\n",
       "      <td>0.9</td>\n",
       "      <td>0.199577</td>\n",
       "      <td>0.000000</td>\n",
       "      <td>-5.987312</td>\n",
       "    </tr>\n",
       "    <tr>\n",
       "      <th>4</th>\n",
       "      <td>0.00</td>\n",
       "      <td>0.0</td>\n",
       "      <td>0.0</td>\n",
       "      <td>0.25</td>\n",
       "      <td>0.25</td>\n",
       "      <td>-10.0</td>\n",
       "      <td>20.0</td>\n",
       "      <td>2.55</td>\n",
       "      <td>7.5</td>\n",
       "      <td>5.025</td>\n",
       "      <td>0.175</td>\n",
       "      <td>45.0</td>\n",
       "      <td>0.45</td>\n",
       "      <td>0.9</td>\n",
       "      <td>0.201476</td>\n",
       "      <td>0.000000</td>\n",
       "      <td>-6.044275</td>\n",
       "    </tr>\n",
       "    <tr>\n",
       "      <th>...</th>\n",
       "      <td>...</td>\n",
       "      <td>...</td>\n",
       "      <td>...</td>\n",
       "      <td>...</td>\n",
       "      <td>...</td>\n",
       "      <td>...</td>\n",
       "      <td>...</td>\n",
       "      <td>...</td>\n",
       "      <td>...</td>\n",
       "      <td>...</td>\n",
       "      <td>...</td>\n",
       "      <td>...</td>\n",
       "      <td>...</td>\n",
       "      <td>...</td>\n",
       "      <td>...</td>\n",
       "      <td>...</td>\n",
       "      <td>...</td>\n",
       "    </tr>\n",
       "    <tr>\n",
       "      <th>367195</th>\n",
       "      <td>1.95</td>\n",
       "      <td>1000.0</td>\n",
       "      <td>1.0</td>\n",
       "      <td>100.25</td>\n",
       "      <td>0.80</td>\n",
       "      <td>-10.0</td>\n",
       "      <td>20.0</td>\n",
       "      <td>2.55</td>\n",
       "      <td>7.5</td>\n",
       "      <td>5.025</td>\n",
       "      <td>0.175</td>\n",
       "      <td>45.0</td>\n",
       "      <td>0.45</td>\n",
       "      <td>0.9</td>\n",
       "      <td>1.716215</td>\n",
       "      <td>0.014719</td>\n",
       "      <td>-36.767566</td>\n",
       "    </tr>\n",
       "    <tr>\n",
       "      <th>367196</th>\n",
       "      <td>1.95</td>\n",
       "      <td>1000.0</td>\n",
       "      <td>1.0</td>\n",
       "      <td>100.25</td>\n",
       "      <td>0.85</td>\n",
       "      <td>-10.0</td>\n",
       "      <td>20.0</td>\n",
       "      <td>2.55</td>\n",
       "      <td>7.5</td>\n",
       "      <td>5.025</td>\n",
       "      <td>0.175</td>\n",
       "      <td>45.0</td>\n",
       "      <td>0.45</td>\n",
       "      <td>0.9</td>\n",
       "      <td>1.719113</td>\n",
       "      <td>0.015154</td>\n",
       "      <td>-36.419638</td>\n",
       "    </tr>\n",
       "    <tr>\n",
       "      <th>367197</th>\n",
       "      <td>1.95</td>\n",
       "      <td>1000.0</td>\n",
       "      <td>1.0</td>\n",
       "      <td>100.25</td>\n",
       "      <td>0.90</td>\n",
       "      <td>-10.0</td>\n",
       "      <td>20.0</td>\n",
       "      <td>2.55</td>\n",
       "      <td>7.5</td>\n",
       "      <td>5.025</td>\n",
       "      <td>0.175</td>\n",
       "      <td>45.0</td>\n",
       "      <td>0.45</td>\n",
       "      <td>0.9</td>\n",
       "      <td>1.721885</td>\n",
       "      <td>0.015570</td>\n",
       "      <td>-36.086667</td>\n",
       "    </tr>\n",
       "    <tr>\n",
       "      <th>367198</th>\n",
       "      <td>1.95</td>\n",
       "      <td>1000.0</td>\n",
       "      <td>1.0</td>\n",
       "      <td>100.25</td>\n",
       "      <td>0.95</td>\n",
       "      <td>-10.0</td>\n",
       "      <td>20.0</td>\n",
       "      <td>2.55</td>\n",
       "      <td>7.5</td>\n",
       "      <td>5.025</td>\n",
       "      <td>0.175</td>\n",
       "      <td>45.0</td>\n",
       "      <td>0.45</td>\n",
       "      <td>0.9</td>\n",
       "      <td>1.724541</td>\n",
       "      <td>0.015969</td>\n",
       "      <td>-35.767707</td>\n",
       "    </tr>\n",
       "    <tr>\n",
       "      <th>367199</th>\n",
       "      <td>1.95</td>\n",
       "      <td>1000.0</td>\n",
       "      <td>1.0</td>\n",
       "      <td>100.25</td>\n",
       "      <td>1.00</td>\n",
       "      <td>-10.0</td>\n",
       "      <td>20.0</td>\n",
       "      <td>2.55</td>\n",
       "      <td>7.5</td>\n",
       "      <td>5.025</td>\n",
       "      <td>0.175</td>\n",
       "      <td>45.0</td>\n",
       "      <td>0.45</td>\n",
       "      <td>0.9</td>\n",
       "      <td>1.727088</td>\n",
       "      <td>0.016351</td>\n",
       "      <td>-35.461894</td>\n",
       "    </tr>\n",
       "  </tbody>\n",
       "</table>\n",
       "<p>367200 rows × 17 columns</p>\n",
       "</div>"
      ],
      "text/plain": [
       "         v_a  j_surf  a_surf     C_1  emissivity_2  theta_e  theta_r   C_2  \\\n",
       "0       0.00     0.0     0.0    0.25          0.05    -10.0     20.0  2.55   \n",
       "1       0.00     0.0     0.0    0.25          0.10    -10.0     20.0  2.55   \n",
       "2       0.00     0.0     0.0    0.25          0.15    -10.0     20.0  2.55   \n",
       "3       0.00     0.0     0.0    0.25          0.20    -10.0     20.0  2.55   \n",
       "4       0.00     0.0     0.0    0.25          0.25    -10.0     20.0  2.55   \n",
       "...      ...     ...     ...     ...           ...      ...      ...   ...   \n",
       "367195  1.95  1000.0     1.0  100.25          0.80    -10.0     20.0  2.55   \n",
       "367196  1.95  1000.0     1.0  100.25          0.85    -10.0     20.0  2.55   \n",
       "367197  1.95  1000.0     1.0  100.25          0.90    -10.0     20.0  2.55   \n",
       "367198  1.95  1000.0     1.0  100.25          0.95    -10.0     20.0  2.55   \n",
       "367199  1.95  1000.0     1.0  100.25          1.00    -10.0     20.0  2.55   \n",
       "\n",
       "        l_h    l_w    l_d  angle   l_s  emissivity_1    u_dash  eta_dash  \\\n",
       "0       7.5  5.025  0.175   45.0  0.45           0.9  0.190245  0.000000   \n",
       "1       7.5  5.025  0.175   45.0  0.45           0.9  0.194212  0.000000   \n",
       "2       7.5  5.025  0.175   45.0  0.45           0.9  0.197219  0.000000   \n",
       "3       7.5  5.025  0.175   45.0  0.45           0.9  0.199577  0.000000   \n",
       "4       7.5  5.025  0.175   45.0  0.45           0.9  0.201476  0.000000   \n",
       "...     ...    ...    ...    ...   ...           ...       ...       ...   \n",
       "367195  7.5  5.025  0.175   45.0  0.45           0.9  1.716215  0.014719   \n",
       "367196  7.5  5.025  0.175   45.0  0.45           0.9  1.719113  0.015154   \n",
       "367197  7.5  5.025  0.175   45.0  0.45           0.9  1.721885  0.015570   \n",
       "367198  7.5  5.025  0.175   45.0  0.45           0.9  1.724541  0.015969   \n",
       "367199  7.5  5.025  0.175   45.0  0.45           0.9  1.727088  0.016351   \n",
       "\n",
       "        q_room_side  \n",
       "0         -5.707350  \n",
       "1         -5.826354  \n",
       "2         -5.916568  \n",
       "3         -5.987312  \n",
       "4         -6.044275  \n",
       "...             ...  \n",
       "367195   -36.767566  \n",
       "367196   -36.419638  \n",
       "367197   -36.086667  \n",
       "367198   -35.767707  \n",
       "367199   -35.461894  \n",
       "\n",
       "[367200 rows x 17 columns]"
      ]
     },
     "execution_count": 11,
     "metadata": {},
     "output_type": "execute_result"
    }
   ],
   "source": [
    "df_winter = get_wall_status_data_by_simplified_calculation_no_03(\n",
    "    getParameterList(arg_theta_e=-10.0, arg_theta_r=20.0, v_a_array=v_a_array, j_surf_array=j_surf_array,\n",
    "                     a_surf_array=a_surf_array, C_1_array=C_1_array, emissivity_2_array=emissivity_2_array)\n",
    ")\n",
    "df_winter"
   ]
  },
  {
   "cell_type": "markdown",
   "metadata": {},
   "source": [
    "### 冬期条件：風速による影響の確認\n",
    "#### 室内表面熱流"
   ]
  },
  {
   "cell_type": "code",
   "execution_count": 12,
   "metadata": {},
   "outputs": [
    {
     "data": {
      "image/png": "[encoded data removed]",
      "text/plain": [
       "<Figure size 460.8x345.6 with 1 Axes>"
      ]
     },
     "metadata": {
      "needs_background": "light"
     },
     "output_type": "display_data"
    }
   ],
   "source": [
    "# 分析条件を固定\n",
    "df = df_winter.query(\"a_surf == 0.5 & C_1 == 50.25 & emissivity_2 == 0.5\")\n",
    "# グラフ描画\n",
    "setPltComparison(df=df, fig_title='winter',\n",
    "                 x_label='Mean wind speed of vent layer[m/s]',\n",
    "                 y_label='Room Side Heat Flow[W/m2]',\n",
    "                 x_data_name='v_a', y_data_name='q_room_side',\n",
    "                 query_label='Solar radiation[W/m2]',\n",
    "                 query_data_name='j_surf',\n",
    "                 query_data_list=j_surf_array,\n",
    "                 xlim_min=min(v_a_array), xlim_max=max(v_a_array),\n",
    "                 ylim_min=df_winter['q_room_side'].min(), ylim_max=df_winter['q_room_side'].max()\n",
    "                )"
   ]
  },
  {
   "cell_type": "markdown",
   "metadata": {},
   "source": [
    "#### 修正熱貫流率、修正日射熱取得率"
   ]
  },
  {
   "cell_type": "code",
   "execution_count": 13,
   "metadata": {},
   "outputs": [
    {
     "data": {
      "image/png": "[encoded data removed]",
      "text/plain": [
       "<Figure size 252x230.4 with 1 Axes>"
      ]
     },
     "metadata": {
      "needs_background": "light"
     },
     "output_type": "display_data"
    },
    {
     "data": {
      "image/png": "[encoded data removed]",
      "text/plain": [
       "<Figure size 252x230.4 with 1 Axes>"
      ]
     },
     "metadata": {
      "needs_background": "light"
     },
     "output_type": "display_data"
    }
   ],
   "source": [
    "# 分析条件を固定\n",
    "df = df_winter.query(\"a_surf == 0.5 & j_surf == 1000.0  & C_1 == 50.25 & emissivity_2 == 0.5\")\n",
    "# グラフ描画\n",
    "setPltComparison_NoLegend(df=df, fig_title='U\\'',\n",
    "                 x_label='Mean wind speed of vent layer[m/s]',\n",
    "                 y_label='Thermal transmission\\ncoefficient[W/(m2K)]',\n",
    "                 x_data_name='v_a', y_data_name='u_dash',\n",
    "                 xlim_min=0.0, xlim_max=2.0,\n",
    "                 ylim_min=0.0, ylim_max=2.0\n",
    "                )\n",
    "# グラフ描画\n",
    "setPltComparison_NoLegend(df=df, fig_title='η\\'',\n",
    "                 x_label='Mean wind speed of vent layer[m/s]',\n",
    "                 y_label='Solar Heat Gain Coefficient[-]',\n",
    "                 x_data_name='v_a', y_data_name='eta_dash',\n",
    "                 xlim_min=0.0, xlim_max=2.0,\n",
    "                 ylim_min=0.0, ylim_max=0.05\n",
    "                )"
   ]
  },
  {
   "cell_type": "markdown",
   "metadata": {},
   "source": [
    "### 冬期条件：外気側部材の熱コンダクタンスによる影響の確認\n",
    "#### 室内表面熱流"
   ]
  },
  {
   "cell_type": "code",
   "execution_count": 14,
   "metadata": {},
   "outputs": [
    {
     "data": {
      "image/png": "[encoded data removed]",
      "text/plain": [
       "<Figure size 460.8x345.6 with 1 Axes>"
      ]
     },
     "metadata": {
      "needs_background": "light"
     },
     "output_type": "display_data"
    }
   ],
   "source": [
    "# 分析条件を固定\n",
    "df = df_winter.query(\"a_surf == 0.5 & v_a == 0.5 & emissivity_2 == 0.5\")\n",
    "# グラフ描画\n",
    "setPltComparison(df=df, fig_title='winter',\n",
    "                 x_label='Thermal conductance of exterior material[W/(m2K)]',\n",
    "                 y_label='Room Side Heat Flow[W/m2]',\n",
    "                 x_data_name='C_1', y_data_name='q_room_side',\n",
    "                 query_label='Solar radiation[W/m2]',\n",
    "                 query_data_name='j_surf',\n",
    "                 query_data_list=j_surf_array,\n",
    "                 xlim_min=min(C_1_array), xlim_max=max(C_1_array),\n",
    "                 ylim_min=df_winter['q_room_side'].min(), ylim_max=df_winter['q_room_side'].max()\n",
    "                )"
   ]
  },
  {
   "cell_type": "markdown",
   "metadata": {},
   "source": [
    "#### 修正熱貫流率、修正日射熱取得率"
   ]
  },
  {
   "cell_type": "code",
   "execution_count": 15,
   "metadata": {},
   "outputs": [
    {
     "data": {
      "image/png": "[encoded data removed]",
      "text/plain": [
       "<Figure size 252x230.4 with 1 Axes>"
      ]
     },
     "metadata": {
      "needs_background": "light"
     },
     "output_type": "display_data"
    },
    {
     "data": {
      "image/png": "[encoded data removed]",
      "text/plain": [
       "<Figure size 252x230.4 with 1 Axes>"
      ]
     },
     "metadata": {
      "needs_background": "light"
     },
     "output_type": "display_data"
    }
   ],
   "source": [
    "# 分析条件を固定\n",
    "df = df_winter.query(\"a_surf == 0.5 & j_surf == 1000.0  & v_a == 0.5 & emissivity_2 == 0.5\")\n",
    "# グラフ描画\n",
    "setPltComparison_NoLegend(df=df, fig_title='U\\'',\n",
    "                 x_label='Thermal conductance of\\nexterior material[W/(m2K)]',\n",
    "                 y_label='Thermal transmission\\ncoefficient[W/(m2K)]',\n",
    "                 x_data_name='C_1', y_data_name='u_dash',\n",
    "                 xlim_min=0.0, xlim_max=100.0,\n",
    "                 ylim_min=0.0, ylim_max=2.0\n",
    "                )\n",
    "# グラフ描画\n",
    "setPltComparison_NoLegend(df=df, fig_title='η\\'',\n",
    "                 x_label='Thermal conductance of\\nexterior material[W/(m2K)]',\n",
    "                 y_label='Solar Heat Gain Coefficient[-]',\n",
    "                 x_data_name='C_1', y_data_name='eta_dash',\n",
    "                 xlim_min=0.0, xlim_max=100.0,\n",
    "                 ylim_min=0.0, ylim_max=0.05\n",
    "                )"
   ]
  },
  {
   "cell_type": "markdown",
   "metadata": {},
   "source": [
    "### 冬期条件：通気層に面する面2の放射率による影響の確認\n",
    "#### 室内表面熱流"
   ]
  },
  {
   "cell_type": "code",
   "execution_count": 16,
   "metadata": {},
   "outputs": [
    {
     "data": {
      "image/png": "[encoded data removed]",
      "text/plain": [
       "<Figure size 460.8x345.6 with 1 Axes>"
      ]
     },
     "metadata": {
      "needs_background": "light"
     },
     "output_type": "display_data"
    }
   ],
   "source": [
    "# 分析条件を固定\n",
    "df = df_winter.query(\"a_surf == 0.5 & v_a == 0.5 & C_1 == 50.25\")\n",
    "# グラフ描画\n",
    "setPltComparison(df=df, fig_title='winter',\n",
    "                 x_label='Emissivity of surface facing the vented air-layer[-]',\n",
    "                 y_label='Room Side Heat Flow[W/m2]',\n",
    "                 x_data_name='emissivity_2', y_data_name='q_room_side',\n",
    "                 query_label='Solar radiation[W/m2]',\n",
    "                 query_data_name='j_surf',\n",
    "                 query_data_list=j_surf_array,\n",
    "                 xlim_min=min(emissivity_2_array), xlim_max=max(emissivity_2_array),\n",
    "                 ylim_min=df_winter['q_room_side'].min(), ylim_max=df_winter['q_room_side'].max()\n",
    "                )"
   ]
  },
  {
   "cell_type": "markdown",
   "metadata": {},
   "source": [
    "#### 修正熱貫流率、修正日射熱取得率"
   ]
  },
  {
   "cell_type": "code",
   "execution_count": 17,
   "metadata": {},
   "outputs": [
    {
     "data": {
      "image/png": "[encoded data removed]",
      "text/plain": [
       "<Figure size 252x230.4 with 1 Axes>"
      ]
     },
     "metadata": {
      "needs_background": "light"
     },
     "output_type": "display_data"
    },
    {
     "data": {
      "image/png": "[encoded data removed]",
      "text/plain": [
       "<Figure size 252x230.4 with 1 Axes>"
      ]
     },
     "metadata": {
      "needs_background": "light"
     },
     "output_type": "display_data"
    }
   ],
   "source": [
    "# 分析条件を固定\n",
    "df = df_winter.query(\"a_surf == 0.5 & j_surf == 1000.0  & v_a == 0.5 & C_1 == 50.25\")\n",
    "# グラフ描画\n",
    "setPltComparison_NoLegend(df=df, fig_title='U\\'',\n",
    "                 x_label='Emissivity of surface\\nfacing the vented air-layer[-]',\n",
    "                 y_label='Thermal transmission\\ncoefficient[W/(m2K)]',\n",
    "                 x_data_name='emissivity_2', y_data_name='u_dash',\n",
    "                 xlim_min=0.0, xlim_max=1.0,\n",
    "                 ylim_min=0.0, ylim_max=2.0\n",
    "                )\n",
    "# グラフ描画\n",
    "setPltComparison_NoLegend(df=df, fig_title='η\\'',\n",
    "                 x_label='Emissivity of surface\\nfacing the vented air-layer[-]',\n",
    "                 y_label='Solar Heat Gain Coefficient[-]',\n",
    "                 x_data_name='emissivity_2', y_data_name='eta_dash',\n",
    "                 xlim_min=0.0, xlim_max=1.0,\n",
    "                 ylim_min=0.0, ylim_max=0.05\n",
    "                )"
   ]
  },
  {
   "cell_type": "markdown",
   "metadata": {},
   "source": [
    "### 夏期条件のDataFrameを作成"
   ]
  },
  {
   "cell_type": "code",
   "execution_count": 13,
   "metadata": {},
   "outputs": [
    {
     "data": {
      "text/html": [
       "<div>\n",
       "<style scoped>\n",
       "    .dataframe tbody tr th:only-of-type {\n",
       "        vertical-align: middle;\n",
       "    }\n",
       "\n",
       "    .dataframe tbody tr th {\n",
       "        vertical-align: top;\n",
       "    }\n",
       "\n",
       "    .dataframe thead th {\n",
       "        text-align: right;\n",
       "    }\n",
       "</style>\n",
       "<table border=\"1\" class=\"dataframe\">\n",
       "  <thead>\n",
       "    <tr style=\"text-align: right;\">\n",
       "      <th></th>\n",
       "      <th>v_a</th>\n",
       "      <th>j_surf</th>\n",
       "      <th>a_surf</th>\n",
       "      <th>C_1</th>\n",
       "      <th>emissivity_2</th>\n",
       "      <th>theta_e</th>\n",
       "      <th>theta_r</th>\n",
       "      <th>C_2</th>\n",
       "      <th>l_h</th>\n",
       "      <th>l_w</th>\n",
       "      <th>l_d</th>\n",
       "      <th>angle</th>\n",
       "      <th>l_s</th>\n",
       "      <th>emissivity_1</th>\n",
       "      <th>q_room_side</th>\n",
       "    </tr>\n",
       "  </thead>\n",
       "  <tbody>\n",
       "    <tr>\n",
       "      <th>0</th>\n",
       "      <td>0.00</td>\n",
       "      <td>0.0</td>\n",
       "      <td>0.0</td>\n",
       "      <td>0.5</td>\n",
       "      <td>0.1</td>\n",
       "      <td>35.0</td>\n",
       "      <td>27.0</td>\n",
       "      <td>2.55</td>\n",
       "      <td>7.5</td>\n",
       "      <td>5.025</td>\n",
       "      <td>0.175</td>\n",
       "      <td>90.0</td>\n",
       "      <td>0.45</td>\n",
       "      <td>0.9</td>\n",
       "      <td>2.517550</td>\n",
       "    </tr>\n",
       "    <tr>\n",
       "      <th>1</th>\n",
       "      <td>0.00</td>\n",
       "      <td>0.0</td>\n",
       "      <td>0.0</td>\n",
       "      <td>0.5</td>\n",
       "      <td>0.5</td>\n",
       "      <td>35.0</td>\n",
       "      <td>27.0</td>\n",
       "      <td>2.55</td>\n",
       "      <td>7.5</td>\n",
       "      <td>5.025</td>\n",
       "      <td>0.175</td>\n",
       "      <td>90.0</td>\n",
       "      <td>0.45</td>\n",
       "      <td>0.9</td>\n",
       "      <td>2.867536</td>\n",
       "    </tr>\n",
       "    <tr>\n",
       "      <th>2</th>\n",
       "      <td>0.00</td>\n",
       "      <td>0.0</td>\n",
       "      <td>0.0</td>\n",
       "      <td>0.5</td>\n",
       "      <td>0.9</td>\n",
       "      <td>35.0</td>\n",
       "      <td>27.0</td>\n",
       "      <td>2.55</td>\n",
       "      <td>7.5</td>\n",
       "      <td>5.025</td>\n",
       "      <td>0.175</td>\n",
       "      <td>90.0</td>\n",
       "      <td>0.45</td>\n",
       "      <td>0.9</td>\n",
       "      <td>2.961713</td>\n",
       "    </tr>\n",
       "    <tr>\n",
       "      <th>3</th>\n",
       "      <td>0.00</td>\n",
       "      <td>0.0</td>\n",
       "      <td>0.0</td>\n",
       "      <td>2.5</td>\n",
       "      <td>0.1</td>\n",
       "      <td>35.0</td>\n",
       "      <td>27.0</td>\n",
       "      <td>2.55</td>\n",
       "      <td>7.5</td>\n",
       "      <td>5.025</td>\n",
       "      <td>0.175</td>\n",
       "      <td>90.0</td>\n",
       "      <td>0.45</td>\n",
       "      <td>0.9</td>\n",
       "      <td>5.070695</td>\n",
       "    </tr>\n",
       "    <tr>\n",
       "      <th>4</th>\n",
       "      <td>0.00</td>\n",
       "      <td>0.0</td>\n",
       "      <td>0.0</td>\n",
       "      <td>2.5</td>\n",
       "      <td>0.5</td>\n",
       "      <td>35.0</td>\n",
       "      <td>27.0</td>\n",
       "      <td>2.55</td>\n",
       "      <td>7.5</td>\n",
       "      <td>5.025</td>\n",
       "      <td>0.175</td>\n",
       "      <td>90.0</td>\n",
       "      <td>0.45</td>\n",
       "      <td>0.9</td>\n",
       "      <td>6.723528</td>\n",
       "    </tr>\n",
       "    <tr>\n",
       "      <th>...</th>\n",
       "      <td>...</td>\n",
       "      <td>...</td>\n",
       "      <td>...</td>\n",
       "      <td>...</td>\n",
       "      <td>...</td>\n",
       "      <td>...</td>\n",
       "      <td>...</td>\n",
       "      <td>...</td>\n",
       "      <td>...</td>\n",
       "      <td>...</td>\n",
       "      <td>...</td>\n",
       "      <td>...</td>\n",
       "      <td>...</td>\n",
       "      <td>...</td>\n",
       "      <td>...</td>\n",
       "    </tr>\n",
       "    <tr>\n",
       "      <th>55075</th>\n",
       "      <td>1.95</td>\n",
       "      <td>1000.0</td>\n",
       "      <td>1.0</td>\n",
       "      <td>98.5</td>\n",
       "      <td>0.5</td>\n",
       "      <td>35.0</td>\n",
       "      <td>27.0</td>\n",
       "      <td>2.55</td>\n",
       "      <td>7.5</td>\n",
       "      <td>5.025</td>\n",
       "      <td>0.175</td>\n",
       "      <td>90.0</td>\n",
       "      <td>0.45</td>\n",
       "      <td>0.9</td>\n",
       "      <td>27.855546</td>\n",
       "    </tr>\n",
       "    <tr>\n",
       "      <th>55076</th>\n",
       "      <td>1.95</td>\n",
       "      <td>1000.0</td>\n",
       "      <td>1.0</td>\n",
       "      <td>98.5</td>\n",
       "      <td>0.9</td>\n",
       "      <td>35.0</td>\n",
       "      <td>27.0</td>\n",
       "      <td>2.55</td>\n",
       "      <td>7.5</td>\n",
       "      <td>5.025</td>\n",
       "      <td>0.175</td>\n",
       "      <td>90.0</td>\n",
       "      <td>0.45</td>\n",
       "      <td>0.9</td>\n",
       "      <td>32.590545</td>\n",
       "    </tr>\n",
       "    <tr>\n",
       "      <th>55077</th>\n",
       "      <td>1.95</td>\n",
       "      <td>1000.0</td>\n",
       "      <td>1.0</td>\n",
       "      <td>100.5</td>\n",
       "      <td>0.1</td>\n",
       "      <td>35.0</td>\n",
       "      <td>27.0</td>\n",
       "      <td>2.55</td>\n",
       "      <td>7.5</td>\n",
       "      <td>5.025</td>\n",
       "      <td>0.175</td>\n",
       "      <td>90.0</td>\n",
       "      <td>0.45</td>\n",
       "      <td>0.9</td>\n",
       "      <td>19.980180</td>\n",
       "    </tr>\n",
       "    <tr>\n",
       "      <th>55078</th>\n",
       "      <td>1.95</td>\n",
       "      <td>1000.0</td>\n",
       "      <td>1.0</td>\n",
       "      <td>100.5</td>\n",
       "      <td>0.5</td>\n",
       "      <td>35.0</td>\n",
       "      <td>27.0</td>\n",
       "      <td>2.55</td>\n",
       "      <td>7.5</td>\n",
       "      <td>5.025</td>\n",
       "      <td>0.175</td>\n",
       "      <td>90.0</td>\n",
       "      <td>0.45</td>\n",
       "      <td>0.9</td>\n",
       "      <td>27.876305</td>\n",
       "    </tr>\n",
       "    <tr>\n",
       "      <th>55079</th>\n",
       "      <td>1.95</td>\n",
       "      <td>1000.0</td>\n",
       "      <td>1.0</td>\n",
       "      <td>100.5</td>\n",
       "      <td>0.9</td>\n",
       "      <td>35.0</td>\n",
       "      <td>27.0</td>\n",
       "      <td>2.55</td>\n",
       "      <td>7.5</td>\n",
       "      <td>5.025</td>\n",
       "      <td>0.175</td>\n",
       "      <td>90.0</td>\n",
       "      <td>0.45</td>\n",
       "      <td>0.9</td>\n",
       "      <td>32.619470</td>\n",
       "    </tr>\n",
       "  </tbody>\n",
       "</table>\n",
       "<p>55080 rows × 15 columns</p>\n",
       "</div>"
      ],
      "text/plain": [
       "        v_a  j_surf  a_surf    C_1  emissivity_2  theta_e  theta_r   C_2  l_h  \\\n",
       "0      0.00     0.0     0.0    0.5           0.1     35.0     27.0  2.55  7.5   \n",
       "1      0.00     0.0     0.0    0.5           0.5     35.0     27.0  2.55  7.5   \n",
       "2      0.00     0.0     0.0    0.5           0.9     35.0     27.0  2.55  7.5   \n",
       "3      0.00     0.0     0.0    2.5           0.1     35.0     27.0  2.55  7.5   \n",
       "4      0.00     0.0     0.0    2.5           0.5     35.0     27.0  2.55  7.5   \n",
       "...     ...     ...     ...    ...           ...      ...      ...   ...  ...   \n",
       "55075  1.95  1000.0     1.0   98.5           0.5     35.0     27.0  2.55  7.5   \n",
       "55076  1.95  1000.0     1.0   98.5           0.9     35.0     27.0  2.55  7.5   \n",
       "55077  1.95  1000.0     1.0  100.5           0.1     35.0     27.0  2.55  7.5   \n",
       "55078  1.95  1000.0     1.0  100.5           0.5     35.0     27.0  2.55  7.5   \n",
       "55079  1.95  1000.0     1.0  100.5           0.9     35.0     27.0  2.55  7.5   \n",
       "\n",
       "         l_w    l_d  angle   l_s  emissivity_1  q_room_side  \n",
       "0      5.025  0.175   90.0  0.45           0.9     2.517550  \n",
       "1      5.025  0.175   90.0  0.45           0.9     2.867536  \n",
       "2      5.025  0.175   90.0  0.45           0.9     2.961713  \n",
       "3      5.025  0.175   90.0  0.45           0.9     5.070695  \n",
       "4      5.025  0.175   90.0  0.45           0.9     6.723528  \n",
       "...      ...    ...    ...   ...           ...          ...  \n",
       "55075  5.025  0.175   90.0  0.45           0.9    27.855546  \n",
       "55076  5.025  0.175   90.0  0.45           0.9    32.590545  \n",
       "55077  5.025  0.175   90.0  0.45           0.9    19.980180  \n",
       "55078  5.025  0.175   90.0  0.45           0.9    27.876305  \n",
       "55079  5.025  0.175   90.0  0.45           0.9    32.619470  \n",
       "\n",
       "[55080 rows x 15 columns]"
      ]
     },
     "execution_count": 13,
     "metadata": {},
     "output_type": "execute_result"
    }
   ],
   "source": [
    "df_summer = get_wall_status_data_by_simplified_calculation_no_03(\n",
    "    getParameterList(arg_theta_e=35.0, arg_theta_r=27.0, v_a_array=v_a_array, j_surf_array=j_surf_array,\n",
    "                     a_surf_array=a_surf_array, C_1_array=C_1_array, emissivity_2_array=emissivity_2_array)\n",
    ")\n",
    "df_summer"
   ]
  },
  {
   "cell_type": "markdown",
   "metadata": {},
   "source": [
    "#### 夏期条件：風速による影響の確認"
   ]
  },
  {
   "cell_type": "code",
   "execution_count": 14,
   "metadata": {},
   "outputs": [
    {
     "data": {
      "image/png": "[encoded data removed]",
      "text/plain": [
       "<Figure size 432x288 with 1 Axes>"
      ]
     },
     "metadata": {
      "needs_background": "light"
     },
     "output_type": "display_data"
    }
   ],
   "source": [
    "# 分析条件を固定\n",
    "df = df_summer.query(\"a_surf == 0.5 & C_1 == 50.5 & emissivity_2 == 0.5\")\n",
    "# グラフ描画\n",
    "setPltComparison(df=df, fig_title='summer', x_label='v_a', y_label='q_room_side',\n",
    "                 query_target='j_surf', query_data_list=j_surf_array,\n",
    "                xlim_min=min(v_a_array), xlim_max=max(v_a_array),\n",
    "                ylim_min=df_summer['q_room_side'].min(), ylim_max=df_summer['q_room_side'].max()\n",
    "                )"
   ]
  },
  {
   "cell_type": "markdown",
   "metadata": {},
   "source": [
    "#### 夏期条件：外気側部材の熱コンダクタンスによる影響の確認"
   ]
  },
  {
   "cell_type": "code",
   "execution_count": 15,
   "metadata": {},
   "outputs": [
    {
     "data": {
      "image/png": "[encoded data removed]",
      "text/plain": [
       "<Figure size 432x288 with 1 Axes>"
      ]
     },
     "metadata": {
      "needs_background": "light"
     },
     "output_type": "display_data"
    }
   ],
   "source": [
    "# 分析条件を固定\n",
    "df = df_summer.query(\"a_surf == 0.5 & v_a == 0.5 & emissivity_2 == 0.5\")\n",
    "# グラフ描画\n",
    "setPltComparison(df=df, fig_title='summer', x_label='C_1', y_label='q_room_side',\n",
    "                 query_target='j_surf', query_data_list=j_surf_array,\n",
    "                xlim_min=min(v_a_array), xlim_max=max(v_a_array),\n",
    "                ylim_min=df_summer['q_room_side'].min(), ylim_max=df_summer['q_room_side'].max()\n",
    "                )"
   ]
  },
  {
   "cell_type": "code",
   "execution_count": null,
   "metadata": {},
   "outputs": [],
   "source": []
  }
 ],
 "metadata": {
  "kernelspec": {
   "display_name": "Python 3",
   "language": "python",
   "name": "python3"
  },
  "language_info": {
   "codemirror_mode": {
    "name": "ipython",
    "version": 3
   },
   "file_extension": ".py",
   "mimetype": "text/x-python",
   "name": "python",
   "nbconvert_exporter": "python",
   "pygments_lexer": "ipython3",
   "version": "3.8.3"
  }
 },
 "nbformat": 4,
 "nbformat_minor": 4
}
