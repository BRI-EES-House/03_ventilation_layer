{
 "cells": [
  {
   "cell_type": "code",
   "execution_count": 1,
   "metadata": {},
   "outputs": [],
   "source": [
    "import ventilation_wall"
   ]
  },
  {
   "cell_type": "markdown",
   "metadata": {},
   "source": [
    "# 通気層を有する壁体の計算テスト\n",
    "## パラメータを設定\n",
    "    theta_e: 外気温度[degree C]\n",
    "    theta_r: 室内温度[degree C]\n",
    "    J_surf: 外気側表面に入射する日射量[W/m2]\n",
    "    a_surf: 外気側表面日射吸収率[-]\n",
    "    C_1: 外気側部材の熱コンダクタンス[W/(m2・K)]\n",
    "    C_2: 室内側部材の熱コンダクタンス[W/(m2・K)]\n",
    "    l_h: 通気層の長さ[m]\n",
    "    l_w: 通気層の幅[m]\n",
    "    l_d: 通気層の厚さ[m]\n",
    "    angle: 通気層の傾斜角[°]\n",
    "    v_a: 通気層の平均風速[m/s]\n",
    "    l_s: 通気胴縁または垂木の間隔[m]\n",
    "    emissivity_1: 通気層に面する面1の放射率[-]\n",
    "    emissivity_2: 通気層に面する面2の放射率[-]"
   ]
  },
  {
   "cell_type": "code",
   "execution_count": 2,
   "metadata": {},
   "outputs": [],
   "source": [
    "parm_1 = ventilation_wall.Parameters(20, 25, 500, 0.9, 10, 0.5, 6.0, 0.45, 0.018, 90, 0.2, 0.45, 0.9, 0.9)"
   ]
  },
  {
   "cell_type": "markdown",
   "metadata": {},
   "source": [
    "## 通気層を有する壁体の熱貫流率(W/(m2・K))の計算"
   ]
  },
  {
   "cell_type": "code",
   "execution_count": 3,
   "metadata": {},
   "outputs": [
    {
     "name": "stdout",
     "output_type": "stream",
     "text": [
      "Done!\n",
      "θ_e: 20\n",
      "θ_sat: 38.0\n",
      "θ_out,surf: 37.77861130757772\n",
      "θ_1,surf: 37.225139576522025\n",
      "θ_2,surf: 36.40666292365928\n",
      "θ_in,surf: 25.600350680192598\n",
      "θ_as: 36.78743859577723\n",
      "θ_r: 25\n",
      "通気層を有する壁体の熱貫流率U_e: 0.4156273939794909\n"
     ]
    }
   ],
   "source": [
    "u_e = ventilation_wall.overall_heat_transfer_coefficient(parm_1)\n",
    "print(\"通気層を有する壁体の熱貫流率U_e:\", u_e)"
   ]
  },
  {
   "cell_type": "markdown",
   "metadata": {},
   "source": [
    "## 通気層を有する壁体の日射熱取得率(-)の計算"
   ]
  },
  {
   "cell_type": "code",
   "execution_count": 4,
   "metadata": {},
   "outputs": [
    {
     "name": "stdout",
     "output_type": "stream",
     "text": [
      "Done!\n",
      "θ_e: 20\n",
      "θ_sat: 38.0\n",
      "θ_out,surf: 37.69550053722903\n",
      "θ_1,surf: 36.93425188030162\n",
      "θ_2,surf: 35.80049259752096\n",
      "θ_in,surf: 20.831604873553736\n",
      "θ_as: 36.33967116813739\n",
      "θ_r: 20\n",
      "通気層を有する壁体の日射熱取得率η_e: 0.014968887723967256\n"
     ]
    },
    {
     "name": "stderr",
     "output_type": "stream",
     "text": [
      "C:\\Users\\Norie Tsujimaru\\Documents\\Sourcetree\\03_ventilation_layer\\heat_transfer_coefficient.py:43: RuntimeWarning: divide by zero encountered in double_scalars\n",
      "  nu_ct = (1 + ((0.104 * rayleigh_number ** 0.293) / (1 + (6310 / rayleigh_number) ** 1.36)) ** 3) ** (1 / 3)\n"
     ]
    }
   ],
   "source": [
    "eta_e = ventilation_wall.solar_heat_gain_coefficient(parm_1)\n",
    "print(\"通気層を有する壁体の日射熱取得率η_e:\", eta_e)"
   ]
  }
 ],
 "metadata": {
  "kernelspec": {
   "display_name": "Python 3",
   "language": "python",
   "name": "python3"
  },
  "language_info": {
   "codemirror_mode": {
    "name": "ipython",
    "version": 3
   },
   "file_extension": ".py",
   "mimetype": "text/x-python",
   "name": "python",
   "nbconvert_exporter": "python",
   "pygments_lexer": "ipython3",
   "version": "3.8.3"
  }
 },
 "nbformat": 4,
 "nbformat_minor": 4
}
