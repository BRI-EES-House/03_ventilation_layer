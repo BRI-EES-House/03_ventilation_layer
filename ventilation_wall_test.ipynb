{
 "cells": [
  {
   "cell_type": "code",
   "execution_count": 1,
   "metadata": {},
   "outputs": [],
   "source": [
    "import numpy as np\n",
    "from matplotlib import pyplot as plt\n",
    "import ventilation_wall\n",
    "import envelope_performance_factors"
   ]
  },
  {
   "cell_type": "markdown",
   "metadata": {},
   "source": [
    "# 通気層を有する壁体の計算テスト\n",
    "## パラメータを設定\n",
    "    theta_e: 外気温度[degree C]\n",
    "    theta_r: 室内温度[degree C]\n",
    "    J_surf: 外気側表面に入射する日射量[W/m2]\n",
    "    a_surf: 外気側表面日射吸収率[-]\n",
    "    C_1: 外気側部材の熱コンダクタンス[W/(m2・K)]\n",
    "    C_2: 室内側部材の熱コンダクタンス[W/(m2・K)]\n",
    "    l_h: 通気層の長さ[m]\n",
    "    l_w: 通気層の幅[m]\n",
    "    l_d: 通気層の厚さ[m]\n",
    "    angle: 通気層の傾斜角[°]\n",
    "    v_a: 通気層の平均風速[m/s]\n",
    "    l_s: 通気胴縁または垂木の間隔[m]\n",
    "    emissivity_1: 通気層に面する面1の放射率[-]\n",
    "    emissivity_2: 通気層に面する面2の放射率[-]"
   ]
  },
  {
   "cell_type": "markdown",
   "metadata": {},
   "source": [
    "### 外気温度を設定"
   ]
  },
  {
   "cell_type": "code",
   "execution_count": 2,
   "metadata": {},
   "outputs": [],
   "source": [
    "theta_e_array = [x for x in range(-20,40)]"
   ]
  },
  {
   "cell_type": "markdown",
   "metadata": {},
   "source": [
    "### パラメータのリストを作成"
   ]
  },
  {
   "cell_type": "code",
   "execution_count": 3,
   "metadata": {},
   "outputs": [],
   "source": [
    "parms = [ventilation_wall.Parameters(\n",
    "    theta_e = theta_e,\n",
    "    theta_r = 25,\n",
    "    J_surf = 500,\n",
    "    a_surf = 0.9,\n",
    "    C_1 = 10,\n",
    "    C_2 = 0.5,\n",
    "    l_h = 6.0,\n",
    "    l_w = 0.45,\n",
    "    l_d = 0.018,\n",
    "    angle = 90,\n",
    "    v_a = 0.2,\n",
    "    l_s = 0.45,\n",
    "    emissivity_1 = 0.9,\n",
    "    emissivity_2=0.9\n",
    ") for theta_e in theta_e_array]"
   ]
  },
  {
   "cell_type": "markdown",
   "metadata": {},
   "source": [
    "## 通気層の状態値を取得"
   ]
  },
  {
   "cell_type": "code",
   "execution_count": 4,
   "metadata": {},
   "outputs": [],
   "source": [
    "# 各点の熱流、温度を格納する配列を用意\n",
    "x1  = np.ndarray(len(parms))\n",
    "status = []\n",
    "q_surf_out = np.ndarray(len(parms))\n",
    "q_surf_1 = np.ndarray(len(parms))\n",
    "q_surf_2 = np.ndarray(len(parms))\n",
    "q_suef_in = np.ndarray(len(parms))\n",
    "q_suf_vent = np.ndarray(len(parms))\n",
    "temp_surf_out = np.ndarray(len(parms))\n",
    "temp_surf_1 = np.ndarray(len(parms))\n",
    "temp_surf_2 = np.ndarray(len(parms))\n",
    "temp_suef_in = np.ndarray(len(parms))\n",
    "temp_suf_vent = np.ndarray(len(parms))\n",
    "\n",
    "for i, parm in enumerate(parms):\n",
    "    \n",
    "    x1[i] = parm.theta_e\n",
    "    \n",
    "    # 通気層の状態値を取得\n",
    "    status_buf: ventilation_wall.WallStatusValues = ventilation_wall.get_wall_status_values(parm)\n",
    "    status.append(status_buf)\n",
    "    \n",
    "    # 各層の熱収支を検算\n",
    "    q = ventilation_wall.get_heat_balance(status_buf.matrix_temp,parm)\n",
    "    q_surf_out[i] = q[0][0]\n",
    "    q_surf_1[i] = q[1][0]\n",
    "    q_surf_2[i] = q[2][0]\n",
    "    q_suef_in[i] = q[3][0]\n",
    "    q_suf_vent[i] = q[4][0]\n",
    "    \n",
    "    # 各層の温度を取得\n",
    "    temp_surf_out[i] = status_buf.matrix_temp[0][0]\n",
    "    temp_surf_1[i] = status_buf.matrix_temp[1][0]\n",
    "    temp_surf_2[i] = status_buf.matrix_temp[2][0]\n",
    "    temp_suef_in[i] = status_buf.matrix_temp[3][0]\n",
    "    temp_suf_vent[i] = status_buf.matrix_temp[4][0]"
   ]
  },
   "outputs": [
    {
     "name": "stdout",
     "output_type": "stream",
     "text": [
      "Done!\n",
      "θ_e: 20\n",
      "θ_sat: 38.0\n",
      "θ_out,surf: 37.38605150347674\n",
      "θ_1,surf: 35.851180262168604\n",
      "θ_2,surf: 34.35073219765866\n",
      "θ_in,surf: 25.492143799876775\n",
      "θ_as: 32.73873398158333\n",
      "θ_r: 25\n",
      "通気層を有する壁体の熱貫流率U_e: 0.26586083103501557\n",
      "通気層を有する壁体の日射熱取得率η_e): 0.00957098991726056\n"
     ]
    }
   ],
   "source": [
    "u_e, eta_e = ventilation_wall.overall_heat_transfer_coefficient(parm_1)\n",
    "print(\"通気層を有する壁体の熱貫流率U_e:\", u_e)\n",
    "print(\"通気層を有する壁体の日射熱取得率η_e):\", eta_e)"
   ]
  }
 ],
 "metadata": {
  "kernelspec": {
   "display_name": "Python 3",
   "language": "python",
   "name": "python3"
  },
  "language_info": {
   "codemirror_mode": {
    "name": "ipython",
    "version": 3
   },
   "file_extension": ".py",
   "mimetype": "text/x-python",
   "name": "python",
   "nbconvert_exporter": "python",
   "pygments_lexer": "ipython3",
   "version": "3.8.3"
  }
 },
 "nbformat": 4,
 "nbformat_minor": 4
}
