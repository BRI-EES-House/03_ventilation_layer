{
 "cells": [
  {
   "cell_type": "code",
   "execution_count": 1,
   "metadata": {},
   "outputs": [],
   "source": [
    "import numpy as np\n",
    "from matplotlib import pyplot as plt\n",
    "import ventilation_wall\n",
    "import envelope_performance_factors"
   ]
  },
  {
   "cell_type": "markdown",
   "metadata": {},
   "source": [
    "# 通気層を有する壁体の計算テスト\n",
    "## パラメータを設定\n",
    "    theta_e: 外気温度[degree C]\n",
    "    theta_r: 室内温度[degree C]\n",
    "    J_surf: 外気側表面に入射する日射量[W/m2]\n",
    "    a_surf: 外気側表面日射吸収率[-]\n",
    "    C_1: 外気側部材の熱コンダクタンス[W/(m2・K)]\n",
    "    C_2: 室内側部材の熱コンダクタンス[W/(m2・K)]\n",
    "    l_h: 通気層の長さ[m]\n",
    "    l_w: 通気層の幅[m]\n",
    "    l_d: 通気層の厚さ[m]\n",
    "    angle: 通気層の傾斜角[°]\n",
    "    v_a: 通気層の平均風速[m/s]\n",
    "    l_s: 通気胴縁または垂木の間隔[m]\n",
    "    emissivity_1: 通気層に面する面1の放射率[-]\n",
    "    emissivity_2: 通気層に面する面2の放射率[-]"
   ]
  },
  {
   "cell_type": "markdown",
   "metadata": {},
   "source": [
    "### 外気温度を設定"
   ]
  },
  {
   "cell_type": "code",
   "execution_count": 2,
   "metadata": {},
   "outputs": [],
   "source": [
    "theta_e_array = [x for x in range(-20,40)]"
   ]
  },
  {
   "cell_type": "markdown",
   "metadata": {},
   "source": [
    "### パラメータのリストを作成"
   ]
  },
  {
   "cell_type": "code",
   "execution_count": 3,
   "metadata": {},
   "outputs": [],
   "source": [
    "parms = [ventilation_wall.Parameters(\n",
    "    theta_e = theta_e,\n",
    "    theta_r = 25,\n",
    "    J_surf = 500,\n",
    "    a_surf = 0.9,\n",
    "    C_1 = 10,\n",
    "    C_2 = 0.5,\n",
    "    l_h = 6.0,\n",
    "    l_w = 0.45,\n",
    "    l_d = 0.018,\n",
    "    angle = 90,\n",
    "    v_a = 0.2,\n",
    "    l_s = 0.45,\n",
    "    emissivity_1 = 0.9,\n",
    "    emissivity_2=0.9\n",
    ") for theta_e in theta_e_array]"
   ]
  },
  {
   "cell_type": "markdown",
   "metadata": {},
   "source": [
    "## 通気層の状態値を取得"
   ]
  },
  {
   "cell_type": "code",
   "execution_count": 4,
   "metadata": {},
   "outputs": [],
   "source": [
    "# 各点の熱流、温度を格納する配列を用意\n",
    "x1  = np.ndarray(len(parms))\n",
    "status = []\n",
    "q_surf_out = np.ndarray(len(parms))\n",
    "q_surf_1 = np.ndarray(len(parms))\n",
    "q_surf_2 = np.ndarray(len(parms))\n",
    "q_suef_in = np.ndarray(len(parms))\n",
    "q_suf_vent = np.ndarray(len(parms))\n",
    "temp_surf_out = np.ndarray(len(parms))\n",
    "temp_surf_1 = np.ndarray(len(parms))\n",
    "temp_surf_2 = np.ndarray(len(parms))\n",
    "temp_suef_in = np.ndarray(len(parms))\n",
    "temp_suf_vent = np.ndarray(len(parms))\n",
    "\n",
    "for i, parm in enumerate(parms):\n",
    "    \n",
    "    x1[i] = parm.theta_e\n",
    "    \n",
    "    # 通気層の状態値を取得\n",
    "    status_buf: ventilation_wall.WallStatusValues = ventilation_wall.get_wall_status_values(parm)\n",
    "    status.append(status_buf)\n",
    "    \n",
    "    # 各層の熱収支を検算\n",
    "    q = ventilation_wall.get_heat_balance(status_buf.matrix_temp,parm)\n",
    "    q_surf_out[i] = q[0][0]\n",
    "    q_surf_1[i] = q[1][0]\n",
    "    q_surf_2[i] = q[2][0]\n",
    "    q_suef_in[i] = q[3][0]\n",
    "    q_suf_vent[i] = q[4][0]\n",
    "    \n",
    "    # 各層の温度を取得\n",
    "    temp_surf_out[i] = status_buf.matrix_temp[0][0]\n",
    "    temp_surf_1[i] = status_buf.matrix_temp[1][0]\n",
    "    temp_surf_2[i] = status_buf.matrix_temp[2][0]\n",
    "    temp_suef_in[i] = status_buf.matrix_temp[3][0]\n",
    "    temp_suf_vent[i] = status_buf.matrix_temp[4][0]"
   ]
  },
  {
   "cell_type": "markdown",
   "metadata": {},
   "source": [
    "### 各層の熱収支の検算結果を確認"
   ]
  },
  {
   "cell_type": "code",
   "execution_count": 5,
   "metadata": {},
   "outputs": [
    {
     "data": {
      "image/png": "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\n",
      "text/plain": [
       "<Figure size 432x288 with 1 Axes>"
      ]
     },
     "metadata": {
      "needs_background": "light"
     },
     "output_type": "display_data"
    }
   ],
   "source": [
    "fig1 = plt.figure()\n",
    "ax1 = fig1.subplots()\n",
    "\n",
    "ax1.scatter(x1, q_surf_out, c=\"r\", label=\"outdoor surface\")\n",
    "ax1.scatter(x1, q_surf_1, c=\"g\", label=\"surface1\")\n",
    "ax1.scatter(x1, q_surf_2, c=\"m\", label=\"surface2\")\n",
    "ax1.scatter(x1, q_suef_in, c=\"c\", label=\"indoor surface\")\n",
    "ax1.scatter(x1, q_suf_vent, c=\"b\", label=\"ventilation layer\")\n",
    "\n",
    "ax1.set_xlabel('outdoor temperature[degC]')\n",
    "ax1.set_ylabel('heat balance[W]')\n",
    "\n",
    "ax1.set_title(\"layer heat balance\")\n",
    "\n",
    "plt.ylim(-10, 10)\n",
    "plt.legend()\n",
    "plt.show()"
   ]
  },
   "outputs": [
    {
     "name": "stdout",
     "output_type": "stream",
     "text": [
      "Done!\n",
      "θ_e: 20\n",
      "θ_sat: 38.0\n",
      "θ_out,surf: 37.38605150347674\n",
      "θ_1,surf: 35.851180262168604\n",
      "θ_2,surf: 34.35073219765866\n",
      "θ_in,surf: 25.492143799876775\n",
      "θ_as: 32.73873398158333\n",
      "θ_r: 25\n",
      "通気層を有する壁体の熱貫流率U_e: 0.26586083103501557\n",
      "通気層を有する壁体の日射熱取得率η_e): 0.00957098991726056\n"
     ]
    }
   ],
   "source": [
    "u_e, eta_e = ventilation_wall.overall_heat_transfer_coefficient(parm_1)\n",
    "print(\"通気層を有する壁体の熱貫流率U_e:\", u_e)\n",
    "print(\"通気層を有する壁体の日射熱取得率η_e):\", eta_e)"
   ]
  }
 ],
 "metadata": {
  "kernelspec": {
   "display_name": "Python 3",
   "language": "python",
   "name": "python3"
  },
  "language_info": {
   "codemirror_mode": {
    "name": "ipython",
    "version": 3
   },
   "file_extension": ".py",
   "mimetype": "text/x-python",
   "name": "python",
   "nbconvert_exporter": "python",
   "pygments_lexer": "ipython3",
   "version": "3.8.3"
  }
 },
 "nbformat": 4,
 "nbformat_minor": 4
}
